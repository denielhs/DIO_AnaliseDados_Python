{
 "metadata": {
  "language_info": {
   "codemirror_mode": {
    "name": "ipython",
    "version": 3
   },
   "file_extension": ".py",
   "mimetype": "text/x-python",
   "name": "python",
   "nbconvert_exporter": "python",
   "pygments_lexer": "ipython3",
   "version": "3.9.6"
  },
  "orig_nbformat": 4,
  "kernelspec": {
   "name": "python3",
   "display_name": "Python 3.9.6 64-bit (windows store)"
  },
  "interpreter": {
   "hash": "2b2c1e7bafa06cbd1d767aebf0adb11d1458cf82b6385f1afb03f8dacc83c18b"
  }
 },
 "nbformat": 4,
 "nbformat_minor": 2,
 "cells": [
  {
   "cell_type": "markdown",
   "source": [
    "# Curso de Python para análise de dados\n",
    "\n",
    "## Estrutura de dados"
   ],
   "metadata": {}
  },
  {
   "cell_type": "markdown",
   "source": [
    "## Listas"
   ],
   "metadata": {}
  },
  {
   "cell_type": "code",
   "execution_count": 2,
   "source": [
    "# Criando uma lista\r\n",
    "animais = [1,2,3,4,5]\r\n",
    "animais"
   ],
   "outputs": [
    {
     "output_type": "execute_result",
     "data": {
      "text/plain": [
       "[1, 2, 3, 4, 5]"
      ]
     },
     "metadata": {},
     "execution_count": 2
    }
   ],
   "metadata": {}
  },
  {
   "cell_type": "code",
   "execution_count": 3,
   "source": [
    "animais = [1,2,3,4,5, \"gato\", \"cachorro\", \"macaco\"]\r\n",
    "animais"
   ],
   "outputs": [
    {
     "output_type": "execute_result",
     "data": {
      "text/plain": [
       "[1, 2, 3, 4, 5, 'gato', 'cachorro', 'macaco']"
      ]
     },
     "metadata": {},
     "execution_count": 3
    }
   ],
   "metadata": {}
  },
  {
   "cell_type": "code",
   "execution_count": 4,
   "source": [
    "# Acessando elementos da lista\r\n",
    "animais[0]"
   ],
   "outputs": [
    {
     "output_type": "execute_result",
     "data": {
      "text/plain": [
       "1"
      ]
     },
     "metadata": {},
     "execution_count": 4
    }
   ],
   "metadata": {}
  },
  {
   "cell_type": "code",
   "execution_count": 5,
   "source": [
    "animais[5]\r\n"
   ],
   "outputs": [
    {
     "output_type": "execute_result",
     "data": {
      "text/plain": [
       "'gato'"
      ]
     },
     "metadata": {},
     "execution_count": 5
    }
   ],
   "metadata": {}
  },
  {
   "cell_type": "code",
   "execution_count": 6,
   "source": [
    "# Trocando um elemento da lista\r\n",
    "animais[0] = 'cobra'\r\n",
    "animais"
   ],
   "outputs": [
    {
     "output_type": "execute_result",
     "data": {
      "text/plain": [
       "['cobra', 2, 3, 4, 5, 'gato', 'cachorro', 'macaco']"
      ]
     },
     "metadata": {},
     "execution_count": 6
    }
   ],
   "metadata": {}
  },
  {
   "cell_type": "code",
   "execution_count": 7,
   "source": [
    "# Removendo elementos de uma lista\r\n",
    "animais.remove(\"macaco\")\r\n",
    "animais"
   ],
   "outputs": [
    {
     "output_type": "execute_result",
     "data": {
      "text/plain": [
       "['cobra', 2, 3, 4, 5, 'gato', 'cachorro']"
      ]
     },
     "metadata": {},
     "execution_count": 7
    }
   ],
   "metadata": {}
  },
  {
   "cell_type": "code",
   "execution_count": 8,
   "source": [
    "# Descobrindo aa quantidade de elmentos de uma lista\r\n",
    "len(animais)\r\n"
   ],
   "outputs": [
    {
     "output_type": "execute_result",
     "data": {
      "text/plain": [
       "7"
      ]
     },
     "metadata": {},
     "execution_count": 8
    }
   ],
   "metadata": {}
  },
  {
   "cell_type": "code",
   "execution_count": 9,
   "source": [
    "# Vamos trabalhar com uma nova lista (de números inteiros)\r\n",
    "lista = [1000, 200, 300, 400, 500, 100, 2000]\r\n",
    "lista"
   ],
   "outputs": [
    {
     "output_type": "execute_result",
     "data": {
      "text/plain": [
       "[1000, 200, 300, 400, 500, 100, 2000]"
      ]
     },
     "metadata": {},
     "execution_count": 9
    }
   ],
   "metadata": {}
  },
  {
   "cell_type": "code",
   "execution_count": 10,
   "source": [
    "max(lista)\r\n"
   ],
   "outputs": [
    {
     "output_type": "execute_result",
     "data": {
      "text/plain": [
       "2000"
      ]
     },
     "metadata": {},
     "execution_count": 10
    }
   ],
   "metadata": {}
  },
  {
   "cell_type": "code",
   "execution_count": 11,
   "source": [
    "min(lista)"
   ],
   "outputs": [
    {
     "output_type": "execute_result",
     "data": {
      "text/plain": [
       "100"
      ]
     },
     "metadata": {},
     "execution_count": 11
    }
   ],
   "metadata": {}
  },
  {
   "cell_type": "code",
   "execution_count": 12,
   "source": [
    "len(lista)\r\n"
   ],
   "outputs": [
    {
     "output_type": "execute_result",
     "data": {
      "text/plain": [
       "7"
      ]
     },
     "metadata": {},
     "execution_count": 12
    }
   ],
   "metadata": {}
  },
  {
   "cell_type": "code",
   "execution_count": 13,
   "source": [
    "# Contando um determinado valor na lista\r\n",
    "lista.count(1000)"
   ],
   "outputs": [
    {
     "output_type": "execute_result",
     "data": {
      "text/plain": [
       "1"
      ]
     },
     "metadata": {},
     "execution_count": 13
    }
   ],
   "metadata": {}
  },
  {
   "cell_type": "code",
   "execution_count": 14,
   "source": [
    "lista.extend([700])\r\n",
    "lista"
   ],
   "outputs": [
    {
     "output_type": "execute_result",
     "data": {
      "text/plain": [
       "[1000, 200, 300, 400, 500, 100, 2000, 700]"
      ]
     },
     "metadata": {},
     "execution_count": 14
    }
   ],
   "metadata": {}
  },
  {
   "cell_type": "code",
   "execution_count": 15,
   "source": [
    "# Ordenando os elementos de uma lista\r\n",
    "a = lista.sort()\r\n"
   ],
   "outputs": [],
   "metadata": {}
  },
  {
   "cell_type": "markdown",
   "source": [
    "## Tuplas"
   ],
   "metadata": {}
  },
  {
   "cell_type": "code",
   "execution_count": 16,
   "source": [
    "# As tuplas usam parênteses como sintaxe e são imutáveis\r\n",
    "\r\n",
    "tp = (\"Banana\", \"Laranja\", \"Maça\", \"Uva\", 100, 200)\r\n",
    "tp[2]\r\n"
   ],
   "outputs": [
    {
     "output_type": "execute_result",
     "data": {
      "text/plain": [
       "'Maça'"
      ]
     },
     "metadata": {},
     "execution_count": 16
    }
   ],
   "metadata": {}
  },
  {
   "cell_type": "code",
   "execution_count": 17,
   "source": [
    "# Contando quantos elementos UVa existem na tupla tp\r\n",
    "tp.count(\"Uva\")\r\n"
   ],
   "outputs": [
    {
     "output_type": "execute_result",
     "data": {
      "text/plain": [
       "1"
      ]
     },
     "metadata": {},
     "execution_count": 17
    }
   ],
   "metadata": {}
  },
  {
   "cell_type": "code",
   "execution_count": 18,
   "source": [
    "# Fatiando uma tupla\r\n",
    "tp[1:3]\r\n"
   ],
   "outputs": [
    {
     "output_type": "execute_result",
     "data": {
      "text/plain": [
       "('Laranja', 'Maça')"
      ]
     },
     "metadata": {},
     "execution_count": 18
    }
   ],
   "metadata": {}
  },
  {
   "cell_type": "markdown",
   "source": [
    "## Dicionário"
   ],
   "metadata": {}
  },
  {
   "cell_type": "code",
   "execution_count": 19,
   "source": [
    "# Os dicionários usam chaves como sintaxe e trabalham com texto e valores\r\n",
    "dc = {\"Uva\": 2, \"Morango\": 2, \"Banana\": 12, \"Maça\": 1, \"Laranja\": 1}\r\n",
    "dc"
   ],
   "outputs": [
    {
     "output_type": "execute_result",
     "data": {
      "text/plain": [
       "{'Uva': 2, 'Morango': 2, 'Banana': 12, 'Maça': 1, 'Laranja': 1}"
      ]
     },
     "metadata": {},
     "execution_count": 19
    }
   ],
   "metadata": {}
  },
  {
   "cell_type": "code",
   "execution_count": 20,
   "source": [
    "# Qual a quantidade de um determinado elemento do dicionário\r\n",
    "dc[\"Banana\"]"
   ],
   "outputs": [
    {
     "output_type": "execute_result",
     "data": {
      "text/plain": [
       "12"
      ]
     },
     "metadata": {},
     "execution_count": 20
    }
   ],
   "metadata": {}
  },
  {
   "cell_type": "code",
   "execution_count": 21,
   "source": [
    "# Retornando as chaves e valores do dicionário\r\n",
    "dc.keys()\r\n"
   ],
   "outputs": [
    {
     "output_type": "execute_result",
     "data": {
      "text/plain": [
       "dict_keys(['Uva', 'Morango', 'Banana', 'Maça', 'Laranja'])"
      ]
     },
     "metadata": {},
     "execution_count": 21
    }
   ],
   "metadata": {}
  },
  {
   "cell_type": "code",
   "execution_count": 22,
   "source": [
    "dc.values()"
   ],
   "outputs": [
    {
     "output_type": "execute_result",
     "data": {
      "text/plain": [
       "dict_values([2, 2, 12, 1, 1])"
      ]
     },
     "metadata": {},
     "execution_count": 22
    }
   ],
   "metadata": {}
  },
  {
   "cell_type": "code",
   "execution_count": 23,
   "source": [
    "# Verificando a existencia de um valor na lista e caso não fazendo a insercao\r\n",
    "dc.setdefault(\"Limão\", 22)\r\n",
    "dc"
   ],
   "outputs": [
    {
     "output_type": "execute_result",
     "data": {
      "text/plain": [
       "{'Uva': 2, 'Morango': 2, 'Banana': 12, 'Maça': 1, 'Laranja': 1, 'Limão': 22}"
      ]
     },
     "metadata": {},
     "execution_count": 23
    }
   ],
   "metadata": {}
  },
  {
   "cell_type": "markdown",
   "source": [
    "## Introdução à Biblioteca Pandas"
   ],
   "metadata": {}
  },
  {
   "cell_type": "code",
   "execution_count": 24,
   "source": [
    "# Importando as bibliotecas necessárias ao projeto\r\n",
    "import pandas as pd "
   ],
   "outputs": [],
   "metadata": {}
  },
  {
   "cell_type": "code",
   "execution_count": 25,
   "source": [
    "# Fazendo a leitura e exibição do banco de dados\r\n",
    "df = pd.read_csv(\"gapminder_data.csv\", sep = \";\")\r\n",
    "df.head(8)"
   ],
   "outputs": [
    {
     "output_type": "execute_result",
     "data": {
      "text/plain": [
       "       country continent  year  lifeExp       pop   gdpPercap\n",
       "0  Afghanistan      Asia  1952   28.801   8425333  779.445314\n",
       "1  Afghanistan      Asia  1957   30.332   9240934  820.853030\n",
       "2  Afghanistan      Asia  1962   31.997  10267083  853.100710\n",
       "3  Afghanistan      Asia  1967   34.020  11537966  836.197138\n",
       "4  Afghanistan      Asia  1972   36.088  13079460  739.981106\n",
       "5  Afghanistan      Asia  1977   38.438  14880372  786.113360\n",
       "6  Afghanistan      Asia  1982   39.854  12881816  978.011439\n",
       "7  Afghanistan      Asia  1987   40.822  13867957  852.395945"
      ],
      "text/html": [
       "<div>\n",
       "<style scoped>\n",
       "    .dataframe tbody tr th:only-of-type {\n",
       "        vertical-align: middle;\n",
       "    }\n",
       "\n",
       "    .dataframe tbody tr th {\n",
       "        vertical-align: top;\n",
       "    }\n",
       "\n",
       "    .dataframe thead th {\n",
       "        text-align: right;\n",
       "    }\n",
       "</style>\n",
       "<table border=\"1\" class=\"dataframe\">\n",
       "  <thead>\n",
       "    <tr style=\"text-align: right;\">\n",
       "      <th></th>\n",
       "      <th>country</th>\n",
       "      <th>continent</th>\n",
       "      <th>year</th>\n",
       "      <th>lifeExp</th>\n",
       "      <th>pop</th>\n",
       "      <th>gdpPercap</th>\n",
       "    </tr>\n",
       "  </thead>\n",
       "  <tbody>\n",
       "    <tr>\n",
       "      <th>0</th>\n",
       "      <td>Afghanistan</td>\n",
       "      <td>Asia</td>\n",
       "      <td>1952</td>\n",
       "      <td>28.801</td>\n",
       "      <td>8425333</td>\n",
       "      <td>779.445314</td>\n",
       "    </tr>\n",
       "    <tr>\n",
       "      <th>1</th>\n",
       "      <td>Afghanistan</td>\n",
       "      <td>Asia</td>\n",
       "      <td>1957</td>\n",
       "      <td>30.332</td>\n",
       "      <td>9240934</td>\n",
       "      <td>820.853030</td>\n",
       "    </tr>\n",
       "    <tr>\n",
       "      <th>2</th>\n",
       "      <td>Afghanistan</td>\n",
       "      <td>Asia</td>\n",
       "      <td>1962</td>\n",
       "      <td>31.997</td>\n",
       "      <td>10267083</td>\n",
       "      <td>853.100710</td>\n",
       "    </tr>\n",
       "    <tr>\n",
       "      <th>3</th>\n",
       "      <td>Afghanistan</td>\n",
       "      <td>Asia</td>\n",
       "      <td>1967</td>\n",
       "      <td>34.020</td>\n",
       "      <td>11537966</td>\n",
       "      <td>836.197138</td>\n",
       "    </tr>\n",
       "    <tr>\n",
       "      <th>4</th>\n",
       "      <td>Afghanistan</td>\n",
       "      <td>Asia</td>\n",
       "      <td>1972</td>\n",
       "      <td>36.088</td>\n",
       "      <td>13079460</td>\n",
       "      <td>739.981106</td>\n",
       "    </tr>\n",
       "    <tr>\n",
       "      <th>5</th>\n",
       "      <td>Afghanistan</td>\n",
       "      <td>Asia</td>\n",
       "      <td>1977</td>\n",
       "      <td>38.438</td>\n",
       "      <td>14880372</td>\n",
       "      <td>786.113360</td>\n",
       "    </tr>\n",
       "    <tr>\n",
       "      <th>6</th>\n",
       "      <td>Afghanistan</td>\n",
       "      <td>Asia</td>\n",
       "      <td>1982</td>\n",
       "      <td>39.854</td>\n",
       "      <td>12881816</td>\n",
       "      <td>978.011439</td>\n",
       "    </tr>\n",
       "    <tr>\n",
       "      <th>7</th>\n",
       "      <td>Afghanistan</td>\n",
       "      <td>Asia</td>\n",
       "      <td>1987</td>\n",
       "      <td>40.822</td>\n",
       "      <td>13867957</td>\n",
       "      <td>852.395945</td>\n",
       "    </tr>\n",
       "  </tbody>\n",
       "</table>\n",
       "</div>"
      ]
     },
     "metadata": {},
     "execution_count": 25
    }
   ],
   "metadata": {}
  },
  {
   "cell_type": "code",
   "execution_count": 26,
   "source": [
    "# Renomeando as colunas do DataFrame\r\n",
    "df = df.rename(columns = {\"country\":\"Pais\", \"year\":\"Ano\", \"pop\": \"populacao\", \"continent\": \"Continente\", \"lifeExp\": \"Exp de vida\", \"gdpPercap\": \"PIB\"})\r\n",
    "df.head(8)"
   ],
   "outputs": [
    {
     "output_type": "execute_result",
     "data": {
      "text/plain": [
       "          Pais Continente   Ano  Exp de vida  populacao         PIB\n",
       "0  Afghanistan       Asia  1952       28.801    8425333  779.445314\n",
       "1  Afghanistan       Asia  1957       30.332    9240934  820.853030\n",
       "2  Afghanistan       Asia  1962       31.997   10267083  853.100710\n",
       "3  Afghanistan       Asia  1967       34.020   11537966  836.197138\n",
       "4  Afghanistan       Asia  1972       36.088   13079460  739.981106\n",
       "5  Afghanistan       Asia  1977       38.438   14880372  786.113360\n",
       "6  Afghanistan       Asia  1982       39.854   12881816  978.011439\n",
       "7  Afghanistan       Asia  1987       40.822   13867957  852.395945"
      ],
      "text/html": [
       "<div>\n",
       "<style scoped>\n",
       "    .dataframe tbody tr th:only-of-type {\n",
       "        vertical-align: middle;\n",
       "    }\n",
       "\n",
       "    .dataframe tbody tr th {\n",
       "        vertical-align: top;\n",
       "    }\n",
       "\n",
       "    .dataframe thead th {\n",
       "        text-align: right;\n",
       "    }\n",
       "</style>\n",
       "<table border=\"1\" class=\"dataframe\">\n",
       "  <thead>\n",
       "    <tr style=\"text-align: right;\">\n",
       "      <th></th>\n",
       "      <th>Pais</th>\n",
       "      <th>Continente</th>\n",
       "      <th>Ano</th>\n",
       "      <th>Exp de vida</th>\n",
       "      <th>populacao</th>\n",
       "      <th>PIB</th>\n",
       "    </tr>\n",
       "  </thead>\n",
       "  <tbody>\n",
       "    <tr>\n",
       "      <th>0</th>\n",
       "      <td>Afghanistan</td>\n",
       "      <td>Asia</td>\n",
       "      <td>1952</td>\n",
       "      <td>28.801</td>\n",
       "      <td>8425333</td>\n",
       "      <td>779.445314</td>\n",
       "    </tr>\n",
       "    <tr>\n",
       "      <th>1</th>\n",
       "      <td>Afghanistan</td>\n",
       "      <td>Asia</td>\n",
       "      <td>1957</td>\n",
       "      <td>30.332</td>\n",
       "      <td>9240934</td>\n",
       "      <td>820.853030</td>\n",
       "    </tr>\n",
       "    <tr>\n",
       "      <th>2</th>\n",
       "      <td>Afghanistan</td>\n",
       "      <td>Asia</td>\n",
       "      <td>1962</td>\n",
       "      <td>31.997</td>\n",
       "      <td>10267083</td>\n",
       "      <td>853.100710</td>\n",
       "    </tr>\n",
       "    <tr>\n",
       "      <th>3</th>\n",
       "      <td>Afghanistan</td>\n",
       "      <td>Asia</td>\n",
       "      <td>1967</td>\n",
       "      <td>34.020</td>\n",
       "      <td>11537966</td>\n",
       "      <td>836.197138</td>\n",
       "    </tr>\n",
       "    <tr>\n",
       "      <th>4</th>\n",
       "      <td>Afghanistan</td>\n",
       "      <td>Asia</td>\n",
       "      <td>1972</td>\n",
       "      <td>36.088</td>\n",
       "      <td>13079460</td>\n",
       "      <td>739.981106</td>\n",
       "    </tr>\n",
       "    <tr>\n",
       "      <th>5</th>\n",
       "      <td>Afghanistan</td>\n",
       "      <td>Asia</td>\n",
       "      <td>1977</td>\n",
       "      <td>38.438</td>\n",
       "      <td>14880372</td>\n",
       "      <td>786.113360</td>\n",
       "    </tr>\n",
       "    <tr>\n",
       "      <th>6</th>\n",
       "      <td>Afghanistan</td>\n",
       "      <td>Asia</td>\n",
       "      <td>1982</td>\n",
       "      <td>39.854</td>\n",
       "      <td>12881816</td>\n",
       "      <td>978.011439</td>\n",
       "    </tr>\n",
       "    <tr>\n",
       "      <th>7</th>\n",
       "      <td>Afghanistan</td>\n",
       "      <td>Asia</td>\n",
       "      <td>1987</td>\n",
       "      <td>40.822</td>\n",
       "      <td>13867957</td>\n",
       "      <td>852.395945</td>\n",
       "    </tr>\n",
       "  </tbody>\n",
       "</table>\n",
       "</div>"
      ]
     },
     "metadata": {},
     "execution_count": 26
    }
   ],
   "metadata": {}
  },
  {
   "cell_type": "code",
   "execution_count": 27,
   "source": [
    "# Total de registros e variáveis em nosso df\r\n",
    "df.shape"
   ],
   "outputs": [
    {
     "output_type": "execute_result",
     "data": {
      "text/plain": [
       "(3312, 6)"
      ]
     },
     "metadata": {},
     "execution_count": 27
    }
   ],
   "metadata": {}
  },
  {
   "cell_type": "code",
   "execution_count": 28,
   "source": [
    "df.columns"
   ],
   "outputs": [
    {
     "output_type": "execute_result",
     "data": {
      "text/plain": [
       "Index(['Pais', 'Continente', 'Ano', 'Exp de vida', 'populacao', 'PIB'], dtype='object')"
      ]
     },
     "metadata": {},
     "execution_count": 28
    }
   ],
   "metadata": {}
  },
  {
   "cell_type": "code",
   "execution_count": 29,
   "source": [
    "df.dtypes"
   ],
   "outputs": [
    {
     "output_type": "execute_result",
     "data": {
      "text/plain": [
       "Pais            object\n",
       "Continente      object\n",
       "Ano              int64\n",
       "Exp de vida    float64\n",
       "populacao        int64\n",
       "PIB            float64\n",
       "dtype: object"
      ]
     },
     "metadata": {},
     "execution_count": 29
    }
   ],
   "metadata": {}
  },
  {
   "cell_type": "code",
   "execution_count": 30,
   "source": [
    "df.tail(8)"
   ],
   "outputs": [
    {
     "output_type": "execute_result",
     "data": {
      "text/plain": [
       "          Pais Continente   Ano  Exp de vida  populacao         PIB\n",
       "3304  Zimbabwe     Africa  1972       55.635    5861135  799.362176\n",
       "3305  Zimbabwe     Africa  1977       57.674    6642107  685.587682\n",
       "3306  Zimbabwe     Africa  1982       60.363    7636524  788.855041\n",
       "3307  Zimbabwe     Africa  1987       62.351    9216418  706.157306\n",
       "3308  Zimbabwe     Africa  1992       60.377   10704340  693.420786\n",
       "3309  Zimbabwe     Africa  1997       46.809   11404948  792.449960\n",
       "3310  Zimbabwe     Africa  2002       39.989   11926563  672.038623\n",
       "3311  Zimbabwe     Africa  2007       43.487   12311143  469.709298"
      ],
      "text/html": [
       "<div>\n",
       "<style scoped>\n",
       "    .dataframe tbody tr th:only-of-type {\n",
       "        vertical-align: middle;\n",
       "    }\n",
       "\n",
       "    .dataframe tbody tr th {\n",
       "        vertical-align: top;\n",
       "    }\n",
       "\n",
       "    .dataframe thead th {\n",
       "        text-align: right;\n",
       "    }\n",
       "</style>\n",
       "<table border=\"1\" class=\"dataframe\">\n",
       "  <thead>\n",
       "    <tr style=\"text-align: right;\">\n",
       "      <th></th>\n",
       "      <th>Pais</th>\n",
       "      <th>Continente</th>\n",
       "      <th>Ano</th>\n",
       "      <th>Exp de vida</th>\n",
       "      <th>populacao</th>\n",
       "      <th>PIB</th>\n",
       "    </tr>\n",
       "  </thead>\n",
       "  <tbody>\n",
       "    <tr>\n",
       "      <th>3304</th>\n",
       "      <td>Zimbabwe</td>\n",
       "      <td>Africa</td>\n",
       "      <td>1972</td>\n",
       "      <td>55.635</td>\n",
       "      <td>5861135</td>\n",
       "      <td>799.362176</td>\n",
       "    </tr>\n",
       "    <tr>\n",
       "      <th>3305</th>\n",
       "      <td>Zimbabwe</td>\n",
       "      <td>Africa</td>\n",
       "      <td>1977</td>\n",
       "      <td>57.674</td>\n",
       "      <td>6642107</td>\n",
       "      <td>685.587682</td>\n",
       "    </tr>\n",
       "    <tr>\n",
       "      <th>3306</th>\n",
       "      <td>Zimbabwe</td>\n",
       "      <td>Africa</td>\n",
       "      <td>1982</td>\n",
       "      <td>60.363</td>\n",
       "      <td>7636524</td>\n",
       "      <td>788.855041</td>\n",
       "    </tr>\n",
       "    <tr>\n",
       "      <th>3307</th>\n",
       "      <td>Zimbabwe</td>\n",
       "      <td>Africa</td>\n",
       "      <td>1987</td>\n",
       "      <td>62.351</td>\n",
       "      <td>9216418</td>\n",
       "      <td>706.157306</td>\n",
       "    </tr>\n",
       "    <tr>\n",
       "      <th>3308</th>\n",
       "      <td>Zimbabwe</td>\n",
       "      <td>Africa</td>\n",
       "      <td>1992</td>\n",
       "      <td>60.377</td>\n",
       "      <td>10704340</td>\n",
       "      <td>693.420786</td>\n",
       "    </tr>\n",
       "    <tr>\n",
       "      <th>3309</th>\n",
       "      <td>Zimbabwe</td>\n",
       "      <td>Africa</td>\n",
       "      <td>1997</td>\n",
       "      <td>46.809</td>\n",
       "      <td>11404948</td>\n",
       "      <td>792.449960</td>\n",
       "    </tr>\n",
       "    <tr>\n",
       "      <th>3310</th>\n",
       "      <td>Zimbabwe</td>\n",
       "      <td>Africa</td>\n",
       "      <td>2002</td>\n",
       "      <td>39.989</td>\n",
       "      <td>11926563</td>\n",
       "      <td>672.038623</td>\n",
       "    </tr>\n",
       "    <tr>\n",
       "      <th>3311</th>\n",
       "      <td>Zimbabwe</td>\n",
       "      <td>Africa</td>\n",
       "      <td>2007</td>\n",
       "      <td>43.487</td>\n",
       "      <td>12311143</td>\n",
       "      <td>469.709298</td>\n",
       "    </tr>\n",
       "  </tbody>\n",
       "</table>\n",
       "</div>"
      ]
     },
     "metadata": {},
     "execution_count": 30
    }
   ],
   "metadata": {}
  },
  {
   "cell_type": "code",
   "execution_count": 31,
   "source": [
    "# Uma breve análise estatística descritiva do banco de dados\r\n",
    "df.describe()"
   ],
   "outputs": [
    {
     "output_type": "execute_result",
     "data": {
      "text/plain": [
       "               Ano  Exp de vida     populacao            PIB\n",
       "count  3312.000000  3312.000000  3.312000e+03    3312.000000\n",
       "mean   1980.301630    65.246871  3.161489e+07   11317.115805\n",
       "std      16.927294    11.768412  1.041193e+08   11369.142739\n",
       "min    1950.000000    23.599000  5.941200e+04     241.165876\n",
       "25%    1967.000000    58.337500  2.678572e+06    2514.625266\n",
       "50%    1982.000000    69.610000  7.557218e+06    7838.505123\n",
       "75%    1996.000000    73.657750  1.958522e+07   17357.879170\n",
       "max    2007.000000    82.670000  1.318683e+09  113523.132900"
      ],
      "text/html": [
       "<div>\n",
       "<style scoped>\n",
       "    .dataframe tbody tr th:only-of-type {\n",
       "        vertical-align: middle;\n",
       "    }\n",
       "\n",
       "    .dataframe tbody tr th {\n",
       "        vertical-align: top;\n",
       "    }\n",
       "\n",
       "    .dataframe thead th {\n",
       "        text-align: right;\n",
       "    }\n",
       "</style>\n",
       "<table border=\"1\" class=\"dataframe\">\n",
       "  <thead>\n",
       "    <tr style=\"text-align: right;\">\n",
       "      <th></th>\n",
       "      <th>Ano</th>\n",
       "      <th>Exp de vida</th>\n",
       "      <th>populacao</th>\n",
       "      <th>PIB</th>\n",
       "    </tr>\n",
       "  </thead>\n",
       "  <tbody>\n",
       "    <tr>\n",
       "      <th>count</th>\n",
       "      <td>3312.000000</td>\n",
       "      <td>3312.000000</td>\n",
       "      <td>3.312000e+03</td>\n",
       "      <td>3312.000000</td>\n",
       "    </tr>\n",
       "    <tr>\n",
       "      <th>mean</th>\n",
       "      <td>1980.301630</td>\n",
       "      <td>65.246871</td>\n",
       "      <td>3.161489e+07</td>\n",
       "      <td>11317.115805</td>\n",
       "    </tr>\n",
       "    <tr>\n",
       "      <th>std</th>\n",
       "      <td>16.927294</td>\n",
       "      <td>11.768412</td>\n",
       "      <td>1.041193e+08</td>\n",
       "      <td>11369.142739</td>\n",
       "    </tr>\n",
       "    <tr>\n",
       "      <th>min</th>\n",
       "      <td>1950.000000</td>\n",
       "      <td>23.599000</td>\n",
       "      <td>5.941200e+04</td>\n",
       "      <td>241.165876</td>\n",
       "    </tr>\n",
       "    <tr>\n",
       "      <th>25%</th>\n",
       "      <td>1967.000000</td>\n",
       "      <td>58.337500</td>\n",
       "      <td>2.678572e+06</td>\n",
       "      <td>2514.625266</td>\n",
       "    </tr>\n",
       "    <tr>\n",
       "      <th>50%</th>\n",
       "      <td>1982.000000</td>\n",
       "      <td>69.610000</td>\n",
       "      <td>7.557218e+06</td>\n",
       "      <td>7838.505123</td>\n",
       "    </tr>\n",
       "    <tr>\n",
       "      <th>75%</th>\n",
       "      <td>1996.000000</td>\n",
       "      <td>73.657750</td>\n",
       "      <td>1.958522e+07</td>\n",
       "      <td>17357.879170</td>\n",
       "    </tr>\n",
       "    <tr>\n",
       "      <th>max</th>\n",
       "      <td>2007.000000</td>\n",
       "      <td>82.670000</td>\n",
       "      <td>1.318683e+09</td>\n",
       "      <td>113523.132900</td>\n",
       "    </tr>\n",
       "  </tbody>\n",
       "</table>\n",
       "</div>"
      ]
     },
     "metadata": {},
     "execution_count": 31
    }
   ],
   "metadata": {}
  },
  {
   "cell_type": "code",
   "execution_count": 32,
   "source": [
    "# Retornando os valores unicos de determinada coluna\r\n",
    "df[\"Continente\"].unique()"
   ],
   "outputs": [
    {
     "output_type": "execute_result",
     "data": {
      "text/plain": [
       "array(['Asia', 'Europe', 'Africa', 'Americas', nan, 'FSU', 'Oceania'],\n",
       "      dtype=object)"
      ]
     },
     "metadata": {},
     "execution_count": 32
    }
   ],
   "metadata": {}
  },
  {
   "cell_type": "code",
   "execution_count": 33,
   "source": [
    "# Aplicando um filtro e usando df.loc para localizar registros especificos\r\n",
    "Europe = df.loc[df[\"Continente\"]==\"Europe\"]\r\n",
    "Europe.head()"
   ],
   "outputs": [
    {
     "output_type": "execute_result",
     "data": {
      "text/plain": [
       "       Pais Continente   Ano  Exp de vida  populacao          PIB\n",
       "12  Albania     Europe  1952        55.23    1282697  1601.056136\n",
       "13  Albania     Europe  1957        59.28    1476505  1942.284244\n",
       "14  Albania     Europe  1962        64.82    1728137  2312.888958\n",
       "15  Albania     Europe  1967        66.22    1984060  2760.196931\n",
       "16  Albania     Europe  1972        67.69    2263554  3313.422188"
      ],
      "text/html": [
       "<div>\n",
       "<style scoped>\n",
       "    .dataframe tbody tr th:only-of-type {\n",
       "        vertical-align: middle;\n",
       "    }\n",
       "\n",
       "    .dataframe tbody tr th {\n",
       "        vertical-align: top;\n",
       "    }\n",
       "\n",
       "    .dataframe thead th {\n",
       "        text-align: right;\n",
       "    }\n",
       "</style>\n",
       "<table border=\"1\" class=\"dataframe\">\n",
       "  <thead>\n",
       "    <tr style=\"text-align: right;\">\n",
       "      <th></th>\n",
       "      <th>Pais</th>\n",
       "      <th>Continente</th>\n",
       "      <th>Ano</th>\n",
       "      <th>Exp de vida</th>\n",
       "      <th>populacao</th>\n",
       "      <th>PIB</th>\n",
       "    </tr>\n",
       "  </thead>\n",
       "  <tbody>\n",
       "    <tr>\n",
       "      <th>12</th>\n",
       "      <td>Albania</td>\n",
       "      <td>Europe</td>\n",
       "      <td>1952</td>\n",
       "      <td>55.23</td>\n",
       "      <td>1282697</td>\n",
       "      <td>1601.056136</td>\n",
       "    </tr>\n",
       "    <tr>\n",
       "      <th>13</th>\n",
       "      <td>Albania</td>\n",
       "      <td>Europe</td>\n",
       "      <td>1957</td>\n",
       "      <td>59.28</td>\n",
       "      <td>1476505</td>\n",
       "      <td>1942.284244</td>\n",
       "    </tr>\n",
       "    <tr>\n",
       "      <th>14</th>\n",
       "      <td>Albania</td>\n",
       "      <td>Europe</td>\n",
       "      <td>1962</td>\n",
       "      <td>64.82</td>\n",
       "      <td>1728137</td>\n",
       "      <td>2312.888958</td>\n",
       "    </tr>\n",
       "    <tr>\n",
       "      <th>15</th>\n",
       "      <td>Albania</td>\n",
       "      <td>Europe</td>\n",
       "      <td>1967</td>\n",
       "      <td>66.22</td>\n",
       "      <td>1984060</td>\n",
       "      <td>2760.196931</td>\n",
       "    </tr>\n",
       "    <tr>\n",
       "      <th>16</th>\n",
       "      <td>Albania</td>\n",
       "      <td>Europe</td>\n",
       "      <td>1972</td>\n",
       "      <td>67.69</td>\n",
       "      <td>2263554</td>\n",
       "      <td>3313.422188</td>\n",
       "    </tr>\n",
       "  </tbody>\n",
       "</table>\n",
       "</div>"
      ]
     },
     "metadata": {},
     "execution_count": 33
    }
   ],
   "metadata": {}
  },
  {
   "cell_type": "code",
   "execution_count": 34,
   "source": [
    "len(Europe)"
   ],
   "outputs": [
    {
     "output_type": "execute_result",
     "data": {
      "text/plain": [
       "1302"
      ]
     },
     "metadata": {},
     "execution_count": 34
    }
   ],
   "metadata": {}
  },
  {
   "cell_type": "code",
   "execution_count": 35,
   "source": [
    "# Fazer um agrupamento por continente\r\n",
    "df.groupby(\"Continente\")[\"Pais\"].nunique()"
   ],
   "outputs": [
    {
     "output_type": "execute_result",
     "data": {
      "text/plain": [
       "Continente\n",
       "Africa      51\n",
       "Americas    25\n",
       "Asia        41\n",
       "Europe      35\n",
       "FSU          6\n",
       "Oceania      3\n",
       "Name: Pais, dtype: int64"
      ]
     },
     "metadata": {},
     "execution_count": 35
    }
   ],
   "metadata": {}
  },
  {
   "cell_type": "code",
   "execution_count": 36,
   "source": [
    "# Agrupar os países do continente europeu e descobrir os países deste continente\r\n",
    "Europe.groupby(\"Pais\")[\"Continente\"].nunique()"
   ],
   "outputs": [
    {
     "output_type": "execute_result",
     "data": {
      "text/plain": [
       "Pais\n",
       "Albania                   1\n",
       "Austria                   1\n",
       "Belgium                   1\n",
       "Bosnia and Herzegovina    1\n",
       "Bulgaria                  1\n",
       "Croatia                   1\n",
       "Cyprus                    1\n",
       "Czech Republic            1\n",
       "Denmark                   1\n",
       "Estonia                   1\n",
       "Finland                   1\n",
       "France                    1\n",
       "Germany                   1\n",
       "Greece                    1\n",
       "Hungary                   1\n",
       "Iceland                   1\n",
       "Ireland                   1\n",
       "Italy                     1\n",
       "Luxembourg                1\n",
       "Malta                     1\n",
       "Moldova                   1\n",
       "Montenegro                1\n",
       "Netherlands               1\n",
       "Norway                    1\n",
       "Poland                    1\n",
       "Portugal                  1\n",
       "Romania                   1\n",
       "Serbia                    1\n",
       "Slovak Republic           1\n",
       "Slovenia                  1\n",
       "Spain                     1\n",
       "Sweden                    1\n",
       "Switzerland               1\n",
       "Turkey                    1\n",
       "United Kingdom            1\n",
       "Name: Continente, dtype: int64"
      ]
     },
     "metadata": {},
     "execution_count": 36
    }
   ],
   "metadata": {}
  },
  {
   "cell_type": "code",
   "execution_count": 37,
   "source": [
    "Europe.groupby(\"Pais\")[\"Continente\"].nunique().count()"
   ],
   "outputs": [
    {
     "output_type": "execute_result",
     "data": {
      "text/plain": [
       "35"
      ]
     },
     "metadata": {},
     "execution_count": 37
    }
   ],
   "metadata": {}
  },
  {
   "cell_type": "code",
   "execution_count": 38,
   "source": [
    "# Agrupar para cada ano de modo a descobrir a expectativa de vida média\r\n",
    "df.groupby(\"Ano\")[\"Exp de vida\"].mean()"
   ],
   "outputs": [
    {
     "output_type": "execute_result",
     "data": {
      "text/plain": [
       "Ano\n",
       "1950    62.002568\n",
       "1951    65.904167\n",
       "1952    49.206867\n",
       "1953    66.674563\n",
       "1954    67.459817\n",
       "1955    67.806757\n",
       "1956    67.950637\n",
       "1957    51.614590\n",
       "1958    68.815936\n",
       "1959    68.226579\n",
       "1960    68.470837\n",
       "1961    68.862480\n",
       "1962    54.035234\n",
       "1963    69.595735\n",
       "1964    70.063105\n",
       "1965    70.259881\n",
       "1966    70.447526\n",
       "1967    56.263629\n",
       "1968    70.689081\n",
       "1969    70.653896\n",
       "1970    70.961141\n",
       "1971    71.103976\n",
       "1972    58.474481\n",
       "1973    71.500338\n",
       "1974    71.778504\n",
       "1975    71.939218\n",
       "1976    72.158050\n",
       "1977    60.429090\n",
       "1978    72.717567\n",
       "1979    73.018717\n",
       "1980    73.064524\n",
       "1981    73.337399\n",
       "1982    62.365871\n",
       "1983    73.787778\n",
       "1984    74.100741\n",
       "1985    74.112222\n",
       "1986    74.452222\n",
       "1987    63.984860\n",
       "1988    74.760000\n",
       "1989    74.924444\n",
       "1990    74.283438\n",
       "1991    74.374848\n",
       "1992    65.008443\n",
       "1993    74.324545\n",
       "1994    74.456667\n",
       "1995    74.552727\n",
       "1996    75.029394\n",
       "1997    65.873799\n",
       "1998    75.569697\n",
       "1999    75.703636\n",
       "2000    76.026364\n",
       "2001    76.257879\n",
       "2002    66.835695\n",
       "2003    76.586667\n",
       "2004    76.921562\n",
       "2005    76.718667\n",
       "2006    77.887778\n",
       "2007    67.868557\n",
       "Name: Exp de vida, dtype: float64"
      ]
     },
     "metadata": {},
     "execution_count": 38
    }
   ],
   "metadata": {}
  },
  {
   "cell_type": "code",
   "execution_count": 39,
   "source": [
    "# Analisando a coluna do pib\r\n",
    "df[\"PIB\"].mean()\r\n"
   ],
   "outputs": [
    {
     "output_type": "execute_result",
     "data": {
      "text/plain": [
       "11317.115804696648"
      ]
     },
     "metadata": {},
     "execution_count": 39
    }
   ],
   "metadata": {}
  },
  {
   "cell_type": "code",
   "execution_count": 40,
   "source": [
    "df[\"PIB\"].std()"
   ],
   "outputs": [
    {
     "output_type": "execute_result",
     "data": {
      "text/plain": [
       "11369.142738983968"
      ]
     },
     "metadata": {},
     "execution_count": 40
    }
   ],
   "metadata": {}
  },
  {
   "cell_type": "markdown",
   "source": [
    "## Como trabalhar com planilhas no Excel"
   ],
   "metadata": {}
  },
  {
   "cell_type": "code",
   "execution_count": 41,
   "source": [
    "# Importando as bibliotecas\r\n",
    "# pip3 install pandas\r\n",
    "import pandas as pd "
   ],
   "outputs": [],
   "metadata": {}
  },
  {
   "cell_type": "code",
   "execution_count": 42,
   "source": [
    "# Leitura dos arquivos\r\n",
    "# pip3 install openpyxl\r\n",
    "dataframe = pd.read_excel(\"ocorrencia_2010_2020.xlsx\")\r\n",
    "dataframe.head(5)\r\n"
   ],
   "outputs": [
    {
     "output_type": "execute_result",
     "data": {
      "text/plain": [
       "   codigo_ocorrencia  codigo_ocorrencia2 ocorrencia_classificacao  \\\n",
       "0              40211               40211                INCIDENTE   \n",
       "1              40349               40349                INCIDENTE   \n",
       "2              40351               40351                INCIDENTE   \n",
       "3              39527               39527                 ACIDENTE   \n",
       "4              40324               40324                INCIDENTE   \n",
       "\n",
       "    ocorrencia_cidade ocorrencia_uf ocorrencia_aerodromo ocorrencia_dia  \\\n",
       "0      RIO DE JANEIRO            RJ                 ****     2010-01-03   \n",
       "1               BELÉM            PA                 SBBE     2010-01-03   \n",
       "2      RIO DE JANEIRO            RJ                 SBRJ     2010-01-03   \n",
       "3  LUCAS DO RIO VERDE            MT                 ****     2010-01-04   \n",
       "4             PELOTAS            RS                 SBPK     2010-01-05   \n",
       "\n",
       "  ocorrencia_hora  total_recomendacoes  \n",
       "0        12:00:00                    0  \n",
       "1        11:05:00                    0  \n",
       "2        03:00:00                    0  \n",
       "3        17:30:00                    0  \n",
       "4        19:25:00                    0  "
      ],
      "text/html": [
       "<div>\n",
       "<style scoped>\n",
       "    .dataframe tbody tr th:only-of-type {\n",
       "        vertical-align: middle;\n",
       "    }\n",
       "\n",
       "    .dataframe tbody tr th {\n",
       "        vertical-align: top;\n",
       "    }\n",
       "\n",
       "    .dataframe thead th {\n",
       "        text-align: right;\n",
       "    }\n",
       "</style>\n",
       "<table border=\"1\" class=\"dataframe\">\n",
       "  <thead>\n",
       "    <tr style=\"text-align: right;\">\n",
       "      <th></th>\n",
       "      <th>codigo_ocorrencia</th>\n",
       "      <th>codigo_ocorrencia2</th>\n",
       "      <th>ocorrencia_classificacao</th>\n",
       "      <th>ocorrencia_cidade</th>\n",
       "      <th>ocorrencia_uf</th>\n",
       "      <th>ocorrencia_aerodromo</th>\n",
       "      <th>ocorrencia_dia</th>\n",
       "      <th>ocorrencia_hora</th>\n",
       "      <th>total_recomendacoes</th>\n",
       "    </tr>\n",
       "  </thead>\n",
       "  <tbody>\n",
       "    <tr>\n",
       "      <th>0</th>\n",
       "      <td>40211</td>\n",
       "      <td>40211</td>\n",
       "      <td>INCIDENTE</td>\n",
       "      <td>RIO DE JANEIRO</td>\n",
       "      <td>RJ</td>\n",
       "      <td>****</td>\n",
       "      <td>2010-01-03</td>\n",
       "      <td>12:00:00</td>\n",
       "      <td>0</td>\n",
       "    </tr>\n",
       "    <tr>\n",
       "      <th>1</th>\n",
       "      <td>40349</td>\n",
       "      <td>40349</td>\n",
       "      <td>INCIDENTE</td>\n",
       "      <td>BELÉM</td>\n",
       "      <td>PA</td>\n",
       "      <td>SBBE</td>\n",
       "      <td>2010-01-03</td>\n",
       "      <td>11:05:00</td>\n",
       "      <td>0</td>\n",
       "    </tr>\n",
       "    <tr>\n",
       "      <th>2</th>\n",
       "      <td>40351</td>\n",
       "      <td>40351</td>\n",
       "      <td>INCIDENTE</td>\n",
       "      <td>RIO DE JANEIRO</td>\n",
       "      <td>RJ</td>\n",
       "      <td>SBRJ</td>\n",
       "      <td>2010-01-03</td>\n",
       "      <td>03:00:00</td>\n",
       "      <td>0</td>\n",
       "    </tr>\n",
       "    <tr>\n",
       "      <th>3</th>\n",
       "      <td>39527</td>\n",
       "      <td>39527</td>\n",
       "      <td>ACIDENTE</td>\n",
       "      <td>LUCAS DO RIO VERDE</td>\n",
       "      <td>MT</td>\n",
       "      <td>****</td>\n",
       "      <td>2010-01-04</td>\n",
       "      <td>17:30:00</td>\n",
       "      <td>0</td>\n",
       "    </tr>\n",
       "    <tr>\n",
       "      <th>4</th>\n",
       "      <td>40324</td>\n",
       "      <td>40324</td>\n",
       "      <td>INCIDENTE</td>\n",
       "      <td>PELOTAS</td>\n",
       "      <td>RS</td>\n",
       "      <td>SBPK</td>\n",
       "      <td>2010-01-05</td>\n",
       "      <td>19:25:00</td>\n",
       "      <td>0</td>\n",
       "    </tr>\n",
       "  </tbody>\n",
       "</table>\n",
       "</div>"
      ]
     },
     "metadata": {},
     "execution_count": 42
    }
   ],
   "metadata": {}
  },
  {
   "cell_type": "code",
   "execution_count": 43,
   "source": [
    "# Lendo as planilhas de exemplo do curso\r\n",
    "df1 = pd.read_excel(\"Aracaju.xlsx\")\r\n",
    "df2 = pd.read_excel(\"Fortaleza.xlsx\")\r\n",
    "df3 = pd.read_excel(\"Natal.xlsx\")\r\n",
    "df4 = pd.read_excel(\"Recife.xlsx\")\r\n",
    "df5 = pd.read_excel(\"Salvador.xlsx\")"
   ],
   "outputs": [],
   "metadata": {}
  },
  {
   "cell_type": "code",
   "execution_count": 44,
   "source": [
    "# Olhando um dataframe\r\n",
    "df3.head(8)\r\n"
   ],
   "outputs": [
    {
     "output_type": "execute_result",
     "data": {
      "text/plain": [
       "  Cidade       Data  Vendas  LojaID  Qtde\n",
       "0  Natal 2018-08-27   606.0     853     2\n",
       "1  Natal 2018-11-25   563.0     853     2\n",
       "2  Natal 2019-03-11   308.0     852     3\n",
       "3  Natal 2019-01-07   271.0     854     3\n",
       "4  Natal 2019-03-09   699.0     853     3\n",
       "5  Natal 2019-03-30   674.0     854     2\n",
       "6  Natal 2018-07-02   322.0     852     4\n",
       "7  Natal 2019-03-18   886.0     853     4"
      ],
      "text/html": [
       "<div>\n",
       "<style scoped>\n",
       "    .dataframe tbody tr th:only-of-type {\n",
       "        vertical-align: middle;\n",
       "    }\n",
       "\n",
       "    .dataframe tbody tr th {\n",
       "        vertical-align: top;\n",
       "    }\n",
       "\n",
       "    .dataframe thead th {\n",
       "        text-align: right;\n",
       "    }\n",
       "</style>\n",
       "<table border=\"1\" class=\"dataframe\">\n",
       "  <thead>\n",
       "    <tr style=\"text-align: right;\">\n",
       "      <th></th>\n",
       "      <th>Cidade</th>\n",
       "      <th>Data</th>\n",
       "      <th>Vendas</th>\n",
       "      <th>LojaID</th>\n",
       "      <th>Qtde</th>\n",
       "    </tr>\n",
       "  </thead>\n",
       "  <tbody>\n",
       "    <tr>\n",
       "      <th>0</th>\n",
       "      <td>Natal</td>\n",
       "      <td>2018-08-27</td>\n",
       "      <td>606.0</td>\n",
       "      <td>853</td>\n",
       "      <td>2</td>\n",
       "    </tr>\n",
       "    <tr>\n",
       "      <th>1</th>\n",
       "      <td>Natal</td>\n",
       "      <td>2018-11-25</td>\n",
       "      <td>563.0</td>\n",
       "      <td>853</td>\n",
       "      <td>2</td>\n",
       "    </tr>\n",
       "    <tr>\n",
       "      <th>2</th>\n",
       "      <td>Natal</td>\n",
       "      <td>2019-03-11</td>\n",
       "      <td>308.0</td>\n",
       "      <td>852</td>\n",
       "      <td>3</td>\n",
       "    </tr>\n",
       "    <tr>\n",
       "      <th>3</th>\n",
       "      <td>Natal</td>\n",
       "      <td>2019-01-07</td>\n",
       "      <td>271.0</td>\n",
       "      <td>854</td>\n",
       "      <td>3</td>\n",
       "    </tr>\n",
       "    <tr>\n",
       "      <th>4</th>\n",
       "      <td>Natal</td>\n",
       "      <td>2019-03-09</td>\n",
       "      <td>699.0</td>\n",
       "      <td>853</td>\n",
       "      <td>3</td>\n",
       "    </tr>\n",
       "    <tr>\n",
       "      <th>5</th>\n",
       "      <td>Natal</td>\n",
       "      <td>2019-03-30</td>\n",
       "      <td>674.0</td>\n",
       "      <td>854</td>\n",
       "      <td>2</td>\n",
       "    </tr>\n",
       "    <tr>\n",
       "      <th>6</th>\n",
       "      <td>Natal</td>\n",
       "      <td>2018-07-02</td>\n",
       "      <td>322.0</td>\n",
       "      <td>852</td>\n",
       "      <td>4</td>\n",
       "    </tr>\n",
       "    <tr>\n",
       "      <th>7</th>\n",
       "      <td>Natal</td>\n",
       "      <td>2019-03-18</td>\n",
       "      <td>886.0</td>\n",
       "      <td>853</td>\n",
       "      <td>4</td>\n",
       "    </tr>\n",
       "  </tbody>\n",
       "</table>\n",
       "</div>"
      ]
     },
     "metadata": {},
     "execution_count": 44
    }
   ],
   "metadata": {}
  },
  {
   "cell_type": "code",
   "execution_count": 45,
   "source": [
    "# Concatenando os data frames em um único df\r\n",
    "df = pd.concat([df1, df2, df3, df4, df5])\r\n",
    "df.head(8)"
   ],
   "outputs": [
    {
     "output_type": "execute_result",
     "data": {
      "text/plain": [
       "    Cidade       Data  Vendas  LojaID  Qtde\n",
       "0  Aracaju 2018-01-01  142.00    1520     1\n",
       "1  Aracaju 2018-01-01   14.21    1522     6\n",
       "2  Aracaju 2018-01-01   71.55    1520     1\n",
       "3  Aracaju 2018-01-01    3.01    1521     7\n",
       "4  Aracaju 2018-01-01   24.51    1522     8\n",
       "5  Aracaju 2018-01-01  156.20    1522     1\n",
       "6  Aracaju 2018-01-01   35.50    1522     2\n",
       "7  Aracaju 2019-01-01  172.22    1522     6"
      ],
      "text/html": [
       "<div>\n",
       "<style scoped>\n",
       "    .dataframe tbody tr th:only-of-type {\n",
       "        vertical-align: middle;\n",
       "    }\n",
       "\n",
       "    .dataframe tbody tr th {\n",
       "        vertical-align: top;\n",
       "    }\n",
       "\n",
       "    .dataframe thead th {\n",
       "        text-align: right;\n",
       "    }\n",
       "</style>\n",
       "<table border=\"1\" class=\"dataframe\">\n",
       "  <thead>\n",
       "    <tr style=\"text-align: right;\">\n",
       "      <th></th>\n",
       "      <th>Cidade</th>\n",
       "      <th>Data</th>\n",
       "      <th>Vendas</th>\n",
       "      <th>LojaID</th>\n",
       "      <th>Qtde</th>\n",
       "    </tr>\n",
       "  </thead>\n",
       "  <tbody>\n",
       "    <tr>\n",
       "      <th>0</th>\n",
       "      <td>Aracaju</td>\n",
       "      <td>2018-01-01</td>\n",
       "      <td>142.00</td>\n",
       "      <td>1520</td>\n",
       "      <td>1</td>\n",
       "    </tr>\n",
       "    <tr>\n",
       "      <th>1</th>\n",
       "      <td>Aracaju</td>\n",
       "      <td>2018-01-01</td>\n",
       "      <td>14.21</td>\n",
       "      <td>1522</td>\n",
       "      <td>6</td>\n",
       "    </tr>\n",
       "    <tr>\n",
       "      <th>2</th>\n",
       "      <td>Aracaju</td>\n",
       "      <td>2018-01-01</td>\n",
       "      <td>71.55</td>\n",
       "      <td>1520</td>\n",
       "      <td>1</td>\n",
       "    </tr>\n",
       "    <tr>\n",
       "      <th>3</th>\n",
       "      <td>Aracaju</td>\n",
       "      <td>2018-01-01</td>\n",
       "      <td>3.01</td>\n",
       "      <td>1521</td>\n",
       "      <td>7</td>\n",
       "    </tr>\n",
       "    <tr>\n",
       "      <th>4</th>\n",
       "      <td>Aracaju</td>\n",
       "      <td>2018-01-01</td>\n",
       "      <td>24.51</td>\n",
       "      <td>1522</td>\n",
       "      <td>8</td>\n",
       "    </tr>\n",
       "    <tr>\n",
       "      <th>5</th>\n",
       "      <td>Aracaju</td>\n",
       "      <td>2018-01-01</td>\n",
       "      <td>156.20</td>\n",
       "      <td>1522</td>\n",
       "      <td>1</td>\n",
       "    </tr>\n",
       "    <tr>\n",
       "      <th>6</th>\n",
       "      <td>Aracaju</td>\n",
       "      <td>2018-01-01</td>\n",
       "      <td>35.50</td>\n",
       "      <td>1522</td>\n",
       "      <td>2</td>\n",
       "    </tr>\n",
       "    <tr>\n",
       "      <th>7</th>\n",
       "      <td>Aracaju</td>\n",
       "      <td>2019-01-01</td>\n",
       "      <td>172.22</td>\n",
       "      <td>1522</td>\n",
       "      <td>6</td>\n",
       "    </tr>\n",
       "  </tbody>\n",
       "</table>\n",
       "</div>"
      ]
     },
     "metadata": {},
     "execution_count": 45
    }
   ],
   "metadata": {}
  },
  {
   "cell_type": "code",
   "execution_count": 46,
   "source": [
    "df.tail(8)"
   ],
   "outputs": [
    {
     "output_type": "execute_result",
     "data": {
      "text/plain": [
       "       Cidade       Data  Vendas  LojaID  Qtde\n",
       "232  Salvador 2019-01-03  167.76    1034     3\n",
       "233  Salvador 2019-01-03  172.40    1036     2\n",
       "234  Salvador 2019-01-03   48.39    1035     2\n",
       "235  Salvador 2019-01-03   41.84    1034     1\n",
       "236  Salvador 2019-01-03  126.29    1035     3\n",
       "237  Salvador 2019-01-03   38.06    1036     3\n",
       "238  Salvador 2019-01-03  139.64    1035     1\n",
       "239  Salvador 2019-01-03  161.41    1037     3"
      ],
      "text/html": [
       "<div>\n",
       "<style scoped>\n",
       "    .dataframe tbody tr th:only-of-type {\n",
       "        vertical-align: middle;\n",
       "    }\n",
       "\n",
       "    .dataframe tbody tr th {\n",
       "        vertical-align: top;\n",
       "    }\n",
       "\n",
       "    .dataframe thead th {\n",
       "        text-align: right;\n",
       "    }\n",
       "</style>\n",
       "<table border=\"1\" class=\"dataframe\">\n",
       "  <thead>\n",
       "    <tr style=\"text-align: right;\">\n",
       "      <th></th>\n",
       "      <th>Cidade</th>\n",
       "      <th>Data</th>\n",
       "      <th>Vendas</th>\n",
       "      <th>LojaID</th>\n",
       "      <th>Qtde</th>\n",
       "    </tr>\n",
       "  </thead>\n",
       "  <tbody>\n",
       "    <tr>\n",
       "      <th>232</th>\n",
       "      <td>Salvador</td>\n",
       "      <td>2019-01-03</td>\n",
       "      <td>167.76</td>\n",
       "      <td>1034</td>\n",
       "      <td>3</td>\n",
       "    </tr>\n",
       "    <tr>\n",
       "      <th>233</th>\n",
       "      <td>Salvador</td>\n",
       "      <td>2019-01-03</td>\n",
       "      <td>172.40</td>\n",
       "      <td>1036</td>\n",
       "      <td>2</td>\n",
       "    </tr>\n",
       "    <tr>\n",
       "      <th>234</th>\n",
       "      <td>Salvador</td>\n",
       "      <td>2019-01-03</td>\n",
       "      <td>48.39</td>\n",
       "      <td>1035</td>\n",
       "      <td>2</td>\n",
       "    </tr>\n",
       "    <tr>\n",
       "      <th>235</th>\n",
       "      <td>Salvador</td>\n",
       "      <td>2019-01-03</td>\n",
       "      <td>41.84</td>\n",
       "      <td>1034</td>\n",
       "      <td>1</td>\n",
       "    </tr>\n",
       "    <tr>\n",
       "      <th>236</th>\n",
       "      <td>Salvador</td>\n",
       "      <td>2019-01-03</td>\n",
       "      <td>126.29</td>\n",
       "      <td>1035</td>\n",
       "      <td>3</td>\n",
       "    </tr>\n",
       "    <tr>\n",
       "      <th>237</th>\n",
       "      <td>Salvador</td>\n",
       "      <td>2019-01-03</td>\n",
       "      <td>38.06</td>\n",
       "      <td>1036</td>\n",
       "      <td>3</td>\n",
       "    </tr>\n",
       "    <tr>\n",
       "      <th>238</th>\n",
       "      <td>Salvador</td>\n",
       "      <td>2019-01-03</td>\n",
       "      <td>139.64</td>\n",
       "      <td>1035</td>\n",
       "      <td>1</td>\n",
       "    </tr>\n",
       "    <tr>\n",
       "      <th>239</th>\n",
       "      <td>Salvador</td>\n",
       "      <td>2019-01-03</td>\n",
       "      <td>161.41</td>\n",
       "      <td>1037</td>\n",
       "      <td>3</td>\n",
       "    </tr>\n",
       "  </tbody>\n",
       "</table>\n",
       "</div>"
      ]
     },
     "metadata": {},
     "execution_count": 46
    }
   ],
   "metadata": {}
  },
  {
   "cell_type": "code",
   "execution_count": 47,
   "source": [
    "# Apresenta valores aleatórios do Dataframe\r\n",
    "df.sample(5)"
   ],
   "outputs": [
    {
     "output_type": "execute_result",
     "data": {
      "text/plain": [
       "        Cidade       Data  Vendas  LojaID  Qtde\n",
       "123  Fortaleza 2019-03-02   20.22     981     6\n",
       "161   Salvador 2019-01-02    5.80    1036     1\n",
       "148   Salvador 2019-01-02   40.59    1037     3\n",
       "184      Natal 2019-01-02  167.16    1037     1\n",
       "234      Natal 2019-01-03   48.39    1035     2"
      ],
      "text/html": [
       "<div>\n",
       "<style scoped>\n",
       "    .dataframe tbody tr th:only-of-type {\n",
       "        vertical-align: middle;\n",
       "    }\n",
       "\n",
       "    .dataframe tbody tr th {\n",
       "        vertical-align: top;\n",
       "    }\n",
       "\n",
       "    .dataframe thead th {\n",
       "        text-align: right;\n",
       "    }\n",
       "</style>\n",
       "<table border=\"1\" class=\"dataframe\">\n",
       "  <thead>\n",
       "    <tr style=\"text-align: right;\">\n",
       "      <th></th>\n",
       "      <th>Cidade</th>\n",
       "      <th>Data</th>\n",
       "      <th>Vendas</th>\n",
       "      <th>LojaID</th>\n",
       "      <th>Qtde</th>\n",
       "    </tr>\n",
       "  </thead>\n",
       "  <tbody>\n",
       "    <tr>\n",
       "      <th>123</th>\n",
       "      <td>Fortaleza</td>\n",
       "      <td>2019-03-02</td>\n",
       "      <td>20.22</td>\n",
       "      <td>981</td>\n",
       "      <td>6</td>\n",
       "    </tr>\n",
       "    <tr>\n",
       "      <th>161</th>\n",
       "      <td>Salvador</td>\n",
       "      <td>2019-01-02</td>\n",
       "      <td>5.80</td>\n",
       "      <td>1036</td>\n",
       "      <td>1</td>\n",
       "    </tr>\n",
       "    <tr>\n",
       "      <th>148</th>\n",
       "      <td>Salvador</td>\n",
       "      <td>2019-01-02</td>\n",
       "      <td>40.59</td>\n",
       "      <td>1037</td>\n",
       "      <td>3</td>\n",
       "    </tr>\n",
       "    <tr>\n",
       "      <th>184</th>\n",
       "      <td>Natal</td>\n",
       "      <td>2019-01-02</td>\n",
       "      <td>167.16</td>\n",
       "      <td>1037</td>\n",
       "      <td>1</td>\n",
       "    </tr>\n",
       "    <tr>\n",
       "      <th>234</th>\n",
       "      <td>Natal</td>\n",
       "      <td>2019-01-03</td>\n",
       "      <td>48.39</td>\n",
       "      <td>1035</td>\n",
       "      <td>2</td>\n",
       "    </tr>\n",
       "  </tbody>\n",
       "</table>\n",
       "</div>"
      ]
     },
     "metadata": {},
     "execution_count": 47
    }
   ],
   "metadata": {}
  },
  {
   "cell_type": "code",
   "execution_count": 48,
   "source": [
    "df.dtypes\r\n"
   ],
   "outputs": [
    {
     "output_type": "execute_result",
     "data": {
      "text/plain": [
       "Cidade            object\n",
       "Data      datetime64[ns]\n",
       "Vendas           float64\n",
       "LojaID             int64\n",
       "Qtde               int64\n",
       "dtype: object"
      ]
     },
     "metadata": {},
     "execution_count": 48
    }
   ],
   "metadata": {}
  },
  {
   "cell_type": "code",
   "execution_count": 49,
   "source": [
    "df.isnull().sum()"
   ],
   "outputs": [
    {
     "output_type": "execute_result",
     "data": {
      "text/plain": [
       "Cidade    0\n",
       "Data      0\n",
       "Vendas    0\n",
       "LojaID    0\n",
       "Qtde      0\n",
       "dtype: int64"
      ]
     },
     "metadata": {},
     "execution_count": 49
    }
   ],
   "metadata": {}
  },
  {
   "cell_type": "code",
   "execution_count": 50,
   "source": [
    "# Caso tivesse valor nulo no dataframe \r\n",
    "# df[\"Vendas\"].fillna(df[\"Vendas\"].mean(), inplace=True)\r\n",
    "# df[\"Vendas\"].fillna(0, inplace=True)\r\n",
    "\r\n",
    "## Para apagar os valores nulos poderíamos \r\n",
    "# df.dropna(inplace=True)\r\n",
    "# ou remover as linhas que possuem valores faltantes na coluna vendas\r\n",
    "# df.dropna(subset=[\"Vendas\"], inplace = True)\r\n"
   ],
   "outputs": [],
   "metadata": {}
  },
  {
   "cell_type": "code",
   "execution_count": 51,
   "source": [
    "# Vamos criar  uma nova coluna no dataframe\r\n",
    "df[\"Receita\"] = df[\"Vendas\"]*df[\"Qtde\"]\r\n",
    "df.head(8)"
   ],
   "outputs": [
    {
     "output_type": "execute_result",
     "data": {
      "text/plain": [
       "    Cidade       Data  Vendas  LojaID  Qtde  Receita\n",
       "0  Aracaju 2018-01-01  142.00    1520     1   142.00\n",
       "1  Aracaju 2018-01-01   14.21    1522     6    85.26\n",
       "2  Aracaju 2018-01-01   71.55    1520     1    71.55\n",
       "3  Aracaju 2018-01-01    3.01    1521     7    21.07\n",
       "4  Aracaju 2018-01-01   24.51    1522     8   196.08\n",
       "5  Aracaju 2018-01-01  156.20    1522     1   156.20\n",
       "6  Aracaju 2018-01-01   35.50    1522     2    71.00\n",
       "7  Aracaju 2019-01-01  172.22    1522     6  1033.32"
      ],
      "text/html": [
       "<div>\n",
       "<style scoped>\n",
       "    .dataframe tbody tr th:only-of-type {\n",
       "        vertical-align: middle;\n",
       "    }\n",
       "\n",
       "    .dataframe tbody tr th {\n",
       "        vertical-align: top;\n",
       "    }\n",
       "\n",
       "    .dataframe thead th {\n",
       "        text-align: right;\n",
       "    }\n",
       "</style>\n",
       "<table border=\"1\" class=\"dataframe\">\n",
       "  <thead>\n",
       "    <tr style=\"text-align: right;\">\n",
       "      <th></th>\n",
       "      <th>Cidade</th>\n",
       "      <th>Data</th>\n",
       "      <th>Vendas</th>\n",
       "      <th>LojaID</th>\n",
       "      <th>Qtde</th>\n",
       "      <th>Receita</th>\n",
       "    </tr>\n",
       "  </thead>\n",
       "  <tbody>\n",
       "    <tr>\n",
       "      <th>0</th>\n",
       "      <td>Aracaju</td>\n",
       "      <td>2018-01-01</td>\n",
       "      <td>142.00</td>\n",
       "      <td>1520</td>\n",
       "      <td>1</td>\n",
       "      <td>142.00</td>\n",
       "    </tr>\n",
       "    <tr>\n",
       "      <th>1</th>\n",
       "      <td>Aracaju</td>\n",
       "      <td>2018-01-01</td>\n",
       "      <td>14.21</td>\n",
       "      <td>1522</td>\n",
       "      <td>6</td>\n",
       "      <td>85.26</td>\n",
       "    </tr>\n",
       "    <tr>\n",
       "      <th>2</th>\n",
       "      <td>Aracaju</td>\n",
       "      <td>2018-01-01</td>\n",
       "      <td>71.55</td>\n",
       "      <td>1520</td>\n",
       "      <td>1</td>\n",
       "      <td>71.55</td>\n",
       "    </tr>\n",
       "    <tr>\n",
       "      <th>3</th>\n",
       "      <td>Aracaju</td>\n",
       "      <td>2018-01-01</td>\n",
       "      <td>3.01</td>\n",
       "      <td>1521</td>\n",
       "      <td>7</td>\n",
       "      <td>21.07</td>\n",
       "    </tr>\n",
       "    <tr>\n",
       "      <th>4</th>\n",
       "      <td>Aracaju</td>\n",
       "      <td>2018-01-01</td>\n",
       "      <td>24.51</td>\n",
       "      <td>1522</td>\n",
       "      <td>8</td>\n",
       "      <td>196.08</td>\n",
       "    </tr>\n",
       "    <tr>\n",
       "      <th>5</th>\n",
       "      <td>Aracaju</td>\n",
       "      <td>2018-01-01</td>\n",
       "      <td>156.20</td>\n",
       "      <td>1522</td>\n",
       "      <td>1</td>\n",
       "      <td>156.20</td>\n",
       "    </tr>\n",
       "    <tr>\n",
       "      <th>6</th>\n",
       "      <td>Aracaju</td>\n",
       "      <td>2018-01-01</td>\n",
       "      <td>35.50</td>\n",
       "      <td>1522</td>\n",
       "      <td>2</td>\n",
       "      <td>71.00</td>\n",
       "    </tr>\n",
       "    <tr>\n",
       "      <th>7</th>\n",
       "      <td>Aracaju</td>\n",
       "      <td>2019-01-01</td>\n",
       "      <td>172.22</td>\n",
       "      <td>1522</td>\n",
       "      <td>6</td>\n",
       "      <td>1033.32</td>\n",
       "    </tr>\n",
       "  </tbody>\n",
       "</table>\n",
       "</div>"
      ]
     },
     "metadata": {},
     "execution_count": 51
    }
   ],
   "metadata": {}
  },
  {
   "cell_type": "code",
   "execution_count": 52,
   "source": [
    "# Passando algumas análise para a receita\r\n",
    "df[\"Receita\"].max()\r\n",
    "# ou\r\n",
    "# df[\"Receita\"].min()"
   ],
   "outputs": [
    {
     "output_type": "execute_result",
     "data": {
      "text/plain": [
       "3544.0"
      ]
     },
     "metadata": {},
     "execution_count": 52
    }
   ],
   "metadata": {}
  },
  {
   "cell_type": "code",
   "execution_count": 53,
   "source": [
    "# Qual a loja me deu a maior receita?\r\n",
    "df.nlargest(3, \"Receita\")"
   ],
   "outputs": [
    {
     "output_type": "execute_result",
     "data": {
      "text/plain": [
       "   Cidade       Data  Vendas  LojaID  Qtde  Receita\n",
       "7   Natal 2019-03-18   886.0     853     4   3544.0\n",
       "51  Natal 2018-01-21   859.0     852     4   3436.0\n",
       "55  Natal 2019-01-08   859.0     854     4   3436.0"
      ],
      "text/html": [
       "<div>\n",
       "<style scoped>\n",
       "    .dataframe tbody tr th:only-of-type {\n",
       "        vertical-align: middle;\n",
       "    }\n",
       "\n",
       "    .dataframe tbody tr th {\n",
       "        vertical-align: top;\n",
       "    }\n",
       "\n",
       "    .dataframe thead th {\n",
       "        text-align: right;\n",
       "    }\n",
       "</style>\n",
       "<table border=\"1\" class=\"dataframe\">\n",
       "  <thead>\n",
       "    <tr style=\"text-align: right;\">\n",
       "      <th></th>\n",
       "      <th>Cidade</th>\n",
       "      <th>Data</th>\n",
       "      <th>Vendas</th>\n",
       "      <th>LojaID</th>\n",
       "      <th>Qtde</th>\n",
       "      <th>Receita</th>\n",
       "    </tr>\n",
       "  </thead>\n",
       "  <tbody>\n",
       "    <tr>\n",
       "      <th>7</th>\n",
       "      <td>Natal</td>\n",
       "      <td>2019-03-18</td>\n",
       "      <td>886.0</td>\n",
       "      <td>853</td>\n",
       "      <td>4</td>\n",
       "      <td>3544.0</td>\n",
       "    </tr>\n",
       "    <tr>\n",
       "      <th>51</th>\n",
       "      <td>Natal</td>\n",
       "      <td>2018-01-21</td>\n",
       "      <td>859.0</td>\n",
       "      <td>852</td>\n",
       "      <td>4</td>\n",
       "      <td>3436.0</td>\n",
       "    </tr>\n",
       "    <tr>\n",
       "      <th>55</th>\n",
       "      <td>Natal</td>\n",
       "      <td>2019-01-08</td>\n",
       "      <td>859.0</td>\n",
       "      <td>854</td>\n",
       "      <td>4</td>\n",
       "      <td>3436.0</td>\n",
       "    </tr>\n",
       "  </tbody>\n",
       "</table>\n",
       "</div>"
      ]
     },
     "metadata": {},
     "execution_count": 53
    }
   ],
   "metadata": {}
  },
  {
   "cell_type": "code",
   "execution_count": 54,
   "source": [
    "# Qual a loja me deu a MENOR receita?\r\n",
    "df.nsmallest(3, \"Receita\")"
   ],
   "outputs": [
    {
     "output_type": "execute_result",
     "data": {
      "text/plain": [
       "      Cidade       Data  Vendas  LojaID  Qtde  Receita\n",
       "118  Aracaju 2018-01-01    3.34    1522     1     3.34\n",
       "65    Recife 2019-01-01    4.01     981     1     4.01\n",
       "92     Natal 2019-01-02    4.57    1035     1     4.57"
      ],
      "text/html": [
       "<div>\n",
       "<style scoped>\n",
       "    .dataframe tbody tr th:only-of-type {\n",
       "        vertical-align: middle;\n",
       "    }\n",
       "\n",
       "    .dataframe tbody tr th {\n",
       "        vertical-align: top;\n",
       "    }\n",
       "\n",
       "    .dataframe thead th {\n",
       "        text-align: right;\n",
       "    }\n",
       "</style>\n",
       "<table border=\"1\" class=\"dataframe\">\n",
       "  <thead>\n",
       "    <tr style=\"text-align: right;\">\n",
       "      <th></th>\n",
       "      <th>Cidade</th>\n",
       "      <th>Data</th>\n",
       "      <th>Vendas</th>\n",
       "      <th>LojaID</th>\n",
       "      <th>Qtde</th>\n",
       "      <th>Receita</th>\n",
       "    </tr>\n",
       "  </thead>\n",
       "  <tbody>\n",
       "    <tr>\n",
       "      <th>118</th>\n",
       "      <td>Aracaju</td>\n",
       "      <td>2018-01-01</td>\n",
       "      <td>3.34</td>\n",
       "      <td>1522</td>\n",
       "      <td>1</td>\n",
       "      <td>3.34</td>\n",
       "    </tr>\n",
       "    <tr>\n",
       "      <th>65</th>\n",
       "      <td>Recife</td>\n",
       "      <td>2019-01-01</td>\n",
       "      <td>4.01</td>\n",
       "      <td>981</td>\n",
       "      <td>1</td>\n",
       "      <td>4.01</td>\n",
       "    </tr>\n",
       "    <tr>\n",
       "      <th>92</th>\n",
       "      <td>Natal</td>\n",
       "      <td>2019-01-02</td>\n",
       "      <td>4.57</td>\n",
       "      <td>1035</td>\n",
       "      <td>1</td>\n",
       "      <td>4.57</td>\n",
       "    </tr>\n",
       "  </tbody>\n",
       "</table>\n",
       "</div>"
      ]
     },
     "metadata": {},
     "execution_count": 54
    }
   ],
   "metadata": {}
  },
  {
   "cell_type": "code",
   "execution_count": 55,
   "source": [
    "# Agora quero descobrir a soma de receita por cidade\r\n",
    "df.groupby(\"Cidade\")[\"Receita\"].sum()"
   ],
   "outputs": [
    {
     "output_type": "execute_result",
     "data": {
      "text/plain": [
       "Cidade\n",
       "Aracaju       48748.25\n",
       "Fortaleza     37913.97\n",
       "Natal        167227.52\n",
       "Recife        51936.51\n",
       "Salvador      40596.73\n",
       "Name: Receita, dtype: float64"
      ]
     },
     "metadata": {},
     "execution_count": 55
    }
   ],
   "metadata": {}
  },
  {
   "cell_type": "code",
   "execution_count": 56,
   "source": [
    "# Ordenando o conjunto de dados\r\n",
    "df.sort_values(\"Receita\", ascending=False).head(8)"
   ],
   "outputs": [
    {
     "output_type": "execute_result",
     "data": {
      "text/plain": [
       "   Cidade       Data  Vendas  LojaID  Qtde  Receita\n",
       "7   Natal 2019-03-18   886.0     853     4   3544.0\n",
       "55  Natal 2019-01-08   859.0     854     4   3436.0\n",
       "51  Natal 2018-01-21   859.0     852     4   3436.0\n",
       "30  Natal 2018-10-02   856.0     853     4   3424.0\n",
       "41  Natal 2018-05-20   835.0     852     4   3340.0\n",
       "38  Natal 2018-02-25   828.0     852     4   3312.0\n",
       "10  Natal 2018-10-27   828.0     852     4   3312.0\n",
       "69  Natal 2019-03-24   817.0     852     4   3268.0"
      ],
      "text/html": [
       "<div>\n",
       "<style scoped>\n",
       "    .dataframe tbody tr th:only-of-type {\n",
       "        vertical-align: middle;\n",
       "    }\n",
       "\n",
       "    .dataframe tbody tr th {\n",
       "        vertical-align: top;\n",
       "    }\n",
       "\n",
       "    .dataframe thead th {\n",
       "        text-align: right;\n",
       "    }\n",
       "</style>\n",
       "<table border=\"1\" class=\"dataframe\">\n",
       "  <thead>\n",
       "    <tr style=\"text-align: right;\">\n",
       "      <th></th>\n",
       "      <th>Cidade</th>\n",
       "      <th>Data</th>\n",
       "      <th>Vendas</th>\n",
       "      <th>LojaID</th>\n",
       "      <th>Qtde</th>\n",
       "      <th>Receita</th>\n",
       "    </tr>\n",
       "  </thead>\n",
       "  <tbody>\n",
       "    <tr>\n",
       "      <th>7</th>\n",
       "      <td>Natal</td>\n",
       "      <td>2019-03-18</td>\n",
       "      <td>886.0</td>\n",
       "      <td>853</td>\n",
       "      <td>4</td>\n",
       "      <td>3544.0</td>\n",
       "    </tr>\n",
       "    <tr>\n",
       "      <th>55</th>\n",
       "      <td>Natal</td>\n",
       "      <td>2019-01-08</td>\n",
       "      <td>859.0</td>\n",
       "      <td>854</td>\n",
       "      <td>4</td>\n",
       "      <td>3436.0</td>\n",
       "    </tr>\n",
       "    <tr>\n",
       "      <th>51</th>\n",
       "      <td>Natal</td>\n",
       "      <td>2018-01-21</td>\n",
       "      <td>859.0</td>\n",
       "      <td>852</td>\n",
       "      <td>4</td>\n",
       "      <td>3436.0</td>\n",
       "    </tr>\n",
       "    <tr>\n",
       "      <th>30</th>\n",
       "      <td>Natal</td>\n",
       "      <td>2018-10-02</td>\n",
       "      <td>856.0</td>\n",
       "      <td>853</td>\n",
       "      <td>4</td>\n",
       "      <td>3424.0</td>\n",
       "    </tr>\n",
       "    <tr>\n",
       "      <th>41</th>\n",
       "      <td>Natal</td>\n",
       "      <td>2018-05-20</td>\n",
       "      <td>835.0</td>\n",
       "      <td>852</td>\n",
       "      <td>4</td>\n",
       "      <td>3340.0</td>\n",
       "    </tr>\n",
       "    <tr>\n",
       "      <th>38</th>\n",
       "      <td>Natal</td>\n",
       "      <td>2018-02-25</td>\n",
       "      <td>828.0</td>\n",
       "      <td>852</td>\n",
       "      <td>4</td>\n",
       "      <td>3312.0</td>\n",
       "    </tr>\n",
       "    <tr>\n",
       "      <th>10</th>\n",
       "      <td>Natal</td>\n",
       "      <td>2018-10-27</td>\n",
       "      <td>828.0</td>\n",
       "      <td>852</td>\n",
       "      <td>4</td>\n",
       "      <td>3312.0</td>\n",
       "    </tr>\n",
       "    <tr>\n",
       "      <th>69</th>\n",
       "      <td>Natal</td>\n",
       "      <td>2019-03-24</td>\n",
       "      <td>817.0</td>\n",
       "      <td>852</td>\n",
       "      <td>4</td>\n",
       "      <td>3268.0</td>\n",
       "    </tr>\n",
       "  </tbody>\n",
       "</table>\n",
       "</div>"
      ]
     },
     "metadata": {},
     "execution_count": 56
    }
   ],
   "metadata": {}
  },
  {
   "cell_type": "markdown",
   "source": [
    "## Trabalhando com Datas"
   ],
   "metadata": {}
  },
  {
   "cell_type": "code",
   "execution_count": 57,
   "source": [
    "# Caso a coluna de datas não estivesse no formato de data.\r\n",
    "df[\"Data\"] = pd.to_datetime(df[\"Data\"])\r\n",
    "df.dtypes"
   ],
   "outputs": [
    {
     "output_type": "execute_result",
     "data": {
      "text/plain": [
       "Cidade             object\n",
       "Data       datetime64[ns]\n",
       "Vendas            float64\n",
       "LojaID              int64\n",
       "Qtde                int64\n",
       "Receita           float64\n",
       "dtype: object"
      ]
     },
     "metadata": {},
     "execution_count": 57
    }
   ],
   "metadata": {}
  },
  {
   "cell_type": "code",
   "execution_count": 58,
   "source": [
    "# Adicionando uma nova coluna ao banco de dados com o ano\r\n",
    "df[\"Ano_Venda\"] = df[\"Data\"].dt.year\r\n",
    "df.head(8)"
   ],
   "outputs": [
    {
     "output_type": "execute_result",
     "data": {
      "text/plain": [
       "    Cidade       Data  Vendas  LojaID  Qtde  Receita  Ano_Venda\n",
       "0  Aracaju 2018-01-01  142.00    1520     1   142.00       2018\n",
       "1  Aracaju 2018-01-01   14.21    1522     6    85.26       2018\n",
       "2  Aracaju 2018-01-01   71.55    1520     1    71.55       2018\n",
       "3  Aracaju 2018-01-01    3.01    1521     7    21.07       2018\n",
       "4  Aracaju 2018-01-01   24.51    1522     8   196.08       2018\n",
       "5  Aracaju 2018-01-01  156.20    1522     1   156.20       2018\n",
       "6  Aracaju 2018-01-01   35.50    1522     2    71.00       2018\n",
       "7  Aracaju 2019-01-01  172.22    1522     6  1033.32       2019"
      ],
      "text/html": [
       "<div>\n",
       "<style scoped>\n",
       "    .dataframe tbody tr th:only-of-type {\n",
       "        vertical-align: middle;\n",
       "    }\n",
       "\n",
       "    .dataframe tbody tr th {\n",
       "        vertical-align: top;\n",
       "    }\n",
       "\n",
       "    .dataframe thead th {\n",
       "        text-align: right;\n",
       "    }\n",
       "</style>\n",
       "<table border=\"1\" class=\"dataframe\">\n",
       "  <thead>\n",
       "    <tr style=\"text-align: right;\">\n",
       "      <th></th>\n",
       "      <th>Cidade</th>\n",
       "      <th>Data</th>\n",
       "      <th>Vendas</th>\n",
       "      <th>LojaID</th>\n",
       "      <th>Qtde</th>\n",
       "      <th>Receita</th>\n",
       "      <th>Ano_Venda</th>\n",
       "    </tr>\n",
       "  </thead>\n",
       "  <tbody>\n",
       "    <tr>\n",
       "      <th>0</th>\n",
       "      <td>Aracaju</td>\n",
       "      <td>2018-01-01</td>\n",
       "      <td>142.00</td>\n",
       "      <td>1520</td>\n",
       "      <td>1</td>\n",
       "      <td>142.00</td>\n",
       "      <td>2018</td>\n",
       "    </tr>\n",
       "    <tr>\n",
       "      <th>1</th>\n",
       "      <td>Aracaju</td>\n",
       "      <td>2018-01-01</td>\n",
       "      <td>14.21</td>\n",
       "      <td>1522</td>\n",
       "      <td>6</td>\n",
       "      <td>85.26</td>\n",
       "      <td>2018</td>\n",
       "    </tr>\n",
       "    <tr>\n",
       "      <th>2</th>\n",
       "      <td>Aracaju</td>\n",
       "      <td>2018-01-01</td>\n",
       "      <td>71.55</td>\n",
       "      <td>1520</td>\n",
       "      <td>1</td>\n",
       "      <td>71.55</td>\n",
       "      <td>2018</td>\n",
       "    </tr>\n",
       "    <tr>\n",
       "      <th>3</th>\n",
       "      <td>Aracaju</td>\n",
       "      <td>2018-01-01</td>\n",
       "      <td>3.01</td>\n",
       "      <td>1521</td>\n",
       "      <td>7</td>\n",
       "      <td>21.07</td>\n",
       "      <td>2018</td>\n",
       "    </tr>\n",
       "    <tr>\n",
       "      <th>4</th>\n",
       "      <td>Aracaju</td>\n",
       "      <td>2018-01-01</td>\n",
       "      <td>24.51</td>\n",
       "      <td>1522</td>\n",
       "      <td>8</td>\n",
       "      <td>196.08</td>\n",
       "      <td>2018</td>\n",
       "    </tr>\n",
       "    <tr>\n",
       "      <th>5</th>\n",
       "      <td>Aracaju</td>\n",
       "      <td>2018-01-01</td>\n",
       "      <td>156.20</td>\n",
       "      <td>1522</td>\n",
       "      <td>1</td>\n",
       "      <td>156.20</td>\n",
       "      <td>2018</td>\n",
       "    </tr>\n",
       "    <tr>\n",
       "      <th>6</th>\n",
       "      <td>Aracaju</td>\n",
       "      <td>2018-01-01</td>\n",
       "      <td>35.50</td>\n",
       "      <td>1522</td>\n",
       "      <td>2</td>\n",
       "      <td>71.00</td>\n",
       "      <td>2018</td>\n",
       "    </tr>\n",
       "    <tr>\n",
       "      <th>7</th>\n",
       "      <td>Aracaju</td>\n",
       "      <td>2019-01-01</td>\n",
       "      <td>172.22</td>\n",
       "      <td>1522</td>\n",
       "      <td>6</td>\n",
       "      <td>1033.32</td>\n",
       "      <td>2019</td>\n",
       "    </tr>\n",
       "  </tbody>\n",
       "</table>\n",
       "</div>"
      ]
     },
     "metadata": {},
     "execution_count": 58
    }
   ],
   "metadata": {}
  },
  {
   "cell_type": "code",
   "execution_count": 59,
   "source": [
    "# Adicionando uma coluna com o dia e o mês da venda\r\n",
    "df[\"Mes_Venda\"] = df[\"Data\"].dt.month\r\n",
    "df[\"Dia_Venda\"] = df[\"Data\"].dt.day"
   ],
   "outputs": [],
   "metadata": {}
  },
  {
   "cell_type": "code",
   "execution_count": 60,
   "source": [
    "df.sample(8)"
   ],
   "outputs": [
    {
     "output_type": "execute_result",
     "data": {
      "text/plain": [
       "        Cidade       Data  Vendas  LojaID  Qtde  Receita  Ano_Venda  \\\n",
       "51       Natal 2018-01-21  859.00     852     4  3436.00       2018   \n",
       "89       Natal 2019-01-02   17.46    1034     1    17.46       2019   \n",
       "36   Fortaleza 2019-01-01   36.31    1004     2    72.62       2019   \n",
       "36    Salvador 2019-01-01    9.67    1037     1     9.67       2019   \n",
       "93    Salvador 2019-01-01   15.58    1037     1    15.58       2019   \n",
       "121     Recife 2019-03-02   41.55     981     3   124.65       2019   \n",
       "129  Fortaleza 2019-03-02   35.34     982     7   247.38       2019   \n",
       "25     Aracaju 2018-01-01   34.66    1521     8   277.28       2018   \n",
       "\n",
       "     Mes_Venda  Dia_Venda  \n",
       "51           1         21  \n",
       "89           1          2  \n",
       "36           1          1  \n",
       "36           1          1  \n",
       "93           1          1  \n",
       "121          3          2  \n",
       "129          3          2  \n",
       "25           1          1  "
      ],
      "text/html": [
       "<div>\n",
       "<style scoped>\n",
       "    .dataframe tbody tr th:only-of-type {\n",
       "        vertical-align: middle;\n",
       "    }\n",
       "\n",
       "    .dataframe tbody tr th {\n",
       "        vertical-align: top;\n",
       "    }\n",
       "\n",
       "    .dataframe thead th {\n",
       "        text-align: right;\n",
       "    }\n",
       "</style>\n",
       "<table border=\"1\" class=\"dataframe\">\n",
       "  <thead>\n",
       "    <tr style=\"text-align: right;\">\n",
       "      <th></th>\n",
       "      <th>Cidade</th>\n",
       "      <th>Data</th>\n",
       "      <th>Vendas</th>\n",
       "      <th>LojaID</th>\n",
       "      <th>Qtde</th>\n",
       "      <th>Receita</th>\n",
       "      <th>Ano_Venda</th>\n",
       "      <th>Mes_Venda</th>\n",
       "      <th>Dia_Venda</th>\n",
       "    </tr>\n",
       "  </thead>\n",
       "  <tbody>\n",
       "    <tr>\n",
       "      <th>51</th>\n",
       "      <td>Natal</td>\n",
       "      <td>2018-01-21</td>\n",
       "      <td>859.00</td>\n",
       "      <td>852</td>\n",
       "      <td>4</td>\n",
       "      <td>3436.00</td>\n",
       "      <td>2018</td>\n",
       "      <td>1</td>\n",
       "      <td>21</td>\n",
       "    </tr>\n",
       "    <tr>\n",
       "      <th>89</th>\n",
       "      <td>Natal</td>\n",
       "      <td>2019-01-02</td>\n",
       "      <td>17.46</td>\n",
       "      <td>1034</td>\n",
       "      <td>1</td>\n",
       "      <td>17.46</td>\n",
       "      <td>2019</td>\n",
       "      <td>1</td>\n",
       "      <td>2</td>\n",
       "    </tr>\n",
       "    <tr>\n",
       "      <th>36</th>\n",
       "      <td>Fortaleza</td>\n",
       "      <td>2019-01-01</td>\n",
       "      <td>36.31</td>\n",
       "      <td>1004</td>\n",
       "      <td>2</td>\n",
       "      <td>72.62</td>\n",
       "      <td>2019</td>\n",
       "      <td>1</td>\n",
       "      <td>1</td>\n",
       "    </tr>\n",
       "    <tr>\n",
       "      <th>36</th>\n",
       "      <td>Salvador</td>\n",
       "      <td>2019-01-01</td>\n",
       "      <td>9.67</td>\n",
       "      <td>1037</td>\n",
       "      <td>1</td>\n",
       "      <td>9.67</td>\n",
       "      <td>2019</td>\n",
       "      <td>1</td>\n",
       "      <td>1</td>\n",
       "    </tr>\n",
       "    <tr>\n",
       "      <th>93</th>\n",
       "      <td>Salvador</td>\n",
       "      <td>2019-01-01</td>\n",
       "      <td>15.58</td>\n",
       "      <td>1037</td>\n",
       "      <td>1</td>\n",
       "      <td>15.58</td>\n",
       "      <td>2019</td>\n",
       "      <td>1</td>\n",
       "      <td>1</td>\n",
       "    </tr>\n",
       "    <tr>\n",
       "      <th>121</th>\n",
       "      <td>Recife</td>\n",
       "      <td>2019-03-02</td>\n",
       "      <td>41.55</td>\n",
       "      <td>981</td>\n",
       "      <td>3</td>\n",
       "      <td>124.65</td>\n",
       "      <td>2019</td>\n",
       "      <td>3</td>\n",
       "      <td>2</td>\n",
       "    </tr>\n",
       "    <tr>\n",
       "      <th>129</th>\n",
       "      <td>Fortaleza</td>\n",
       "      <td>2019-03-02</td>\n",
       "      <td>35.34</td>\n",
       "      <td>982</td>\n",
       "      <td>7</td>\n",
       "      <td>247.38</td>\n",
       "      <td>2019</td>\n",
       "      <td>3</td>\n",
       "      <td>2</td>\n",
       "    </tr>\n",
       "    <tr>\n",
       "      <th>25</th>\n",
       "      <td>Aracaju</td>\n",
       "      <td>2018-01-01</td>\n",
       "      <td>34.66</td>\n",
       "      <td>1521</td>\n",
       "      <td>8</td>\n",
       "      <td>277.28</td>\n",
       "      <td>2018</td>\n",
       "      <td>1</td>\n",
       "      <td>1</td>\n",
       "    </tr>\n",
       "  </tbody>\n",
       "</table>\n",
       "</div>"
      ]
     },
     "metadata": {},
     "execution_count": 60
    }
   ],
   "metadata": {}
  },
  {
   "cell_type": "code",
   "execution_count": 61,
   "source": [
    "# Qual a receita por ano\r\n",
    "df.groupby(\"Ano_Venda\")[\"Receita\"].sum()"
   ],
   "outputs": [
    {
     "output_type": "execute_result",
     "data": {
      "text/plain": [
       "Ano_Venda\n",
       "2018    118176.53\n",
       "2019    228246.45\n",
       "Name: Receita, dtype: float64"
      ]
     },
     "metadata": {},
     "execution_count": 61
    }
   ],
   "metadata": {}
  },
  {
   "cell_type": "code",
   "execution_count": 62,
   "source": [
    "# Coluna com o trimestre da Venda\r\n",
    "df[\"Trimestre_Venda\"] = df[\"Data\"].dt.quarter"
   ],
   "outputs": [],
   "metadata": {}
  },
  {
   "cell_type": "code",
   "execution_count": 63,
   "source": [
    "# Obtendo uma amostra do df\r\n",
    "df.sample(8)"
   ],
   "outputs": [
    {
     "output_type": "execute_result",
     "data": {
      "text/plain": [
       "        Cidade       Data  Vendas  LojaID  Qtde  Receita  Ano_Venda  \\\n",
       "60    Salvador 2019-01-01   96.01    1034     2   192.02       2019   \n",
       "86     Aracaju 2018-01-01  154.92    1521     5   774.60       2018   \n",
       "27       Natal 2018-07-16  390.00     853     3  1170.00       2018   \n",
       "122  Fortaleza 2019-03-02  235.06     983     3   705.18       2019   \n",
       "62    Salvador 2019-01-01  161.02    1037     3   483.06       2019   \n",
       "143   Salvador 2019-01-02   41.18    1037     2    82.36       2019   \n",
       "113     Recife 2019-03-02   38.63     980     2    77.26       2019   \n",
       "126  Fortaleza 2019-03-02   41.87     980     8   334.96       2019   \n",
       "\n",
       "     Mes_Venda  Dia_Venda  Trimestre_Venda  \n",
       "60           1          1                1  \n",
       "86           1          1                1  \n",
       "27           7         16                3  \n",
       "122          3          2                1  \n",
       "62           1          1                1  \n",
       "143          1          2                1  \n",
       "113          3          2                1  \n",
       "126          3          2                1  "
      ],
      "text/html": [
       "<div>\n",
       "<style scoped>\n",
       "    .dataframe tbody tr th:only-of-type {\n",
       "        vertical-align: middle;\n",
       "    }\n",
       "\n",
       "    .dataframe tbody tr th {\n",
       "        vertical-align: top;\n",
       "    }\n",
       "\n",
       "    .dataframe thead th {\n",
       "        text-align: right;\n",
       "    }\n",
       "</style>\n",
       "<table border=\"1\" class=\"dataframe\">\n",
       "  <thead>\n",
       "    <tr style=\"text-align: right;\">\n",
       "      <th></th>\n",
       "      <th>Cidade</th>\n",
       "      <th>Data</th>\n",
       "      <th>Vendas</th>\n",
       "      <th>LojaID</th>\n",
       "      <th>Qtde</th>\n",
       "      <th>Receita</th>\n",
       "      <th>Ano_Venda</th>\n",
       "      <th>Mes_Venda</th>\n",
       "      <th>Dia_Venda</th>\n",
       "      <th>Trimestre_Venda</th>\n",
       "    </tr>\n",
       "  </thead>\n",
       "  <tbody>\n",
       "    <tr>\n",
       "      <th>60</th>\n",
       "      <td>Salvador</td>\n",
       "      <td>2019-01-01</td>\n",
       "      <td>96.01</td>\n",
       "      <td>1034</td>\n",
       "      <td>2</td>\n",
       "      <td>192.02</td>\n",
       "      <td>2019</td>\n",
       "      <td>1</td>\n",
       "      <td>1</td>\n",
       "      <td>1</td>\n",
       "    </tr>\n",
       "    <tr>\n",
       "      <th>86</th>\n",
       "      <td>Aracaju</td>\n",
       "      <td>2018-01-01</td>\n",
       "      <td>154.92</td>\n",
       "      <td>1521</td>\n",
       "      <td>5</td>\n",
       "      <td>774.60</td>\n",
       "      <td>2018</td>\n",
       "      <td>1</td>\n",
       "      <td>1</td>\n",
       "      <td>1</td>\n",
       "    </tr>\n",
       "    <tr>\n",
       "      <th>27</th>\n",
       "      <td>Natal</td>\n",
       "      <td>2018-07-16</td>\n",
       "      <td>390.00</td>\n",
       "      <td>853</td>\n",
       "      <td>3</td>\n",
       "      <td>1170.00</td>\n",
       "      <td>2018</td>\n",
       "      <td>7</td>\n",
       "      <td>16</td>\n",
       "      <td>3</td>\n",
       "    </tr>\n",
       "    <tr>\n",
       "      <th>122</th>\n",
       "      <td>Fortaleza</td>\n",
       "      <td>2019-03-02</td>\n",
       "      <td>235.06</td>\n",
       "      <td>983</td>\n",
       "      <td>3</td>\n",
       "      <td>705.18</td>\n",
       "      <td>2019</td>\n",
       "      <td>3</td>\n",
       "      <td>2</td>\n",
       "      <td>1</td>\n",
       "    </tr>\n",
       "    <tr>\n",
       "      <th>62</th>\n",
       "      <td>Salvador</td>\n",
       "      <td>2019-01-01</td>\n",
       "      <td>161.02</td>\n",
       "      <td>1037</td>\n",
       "      <td>3</td>\n",
       "      <td>483.06</td>\n",
       "      <td>2019</td>\n",
       "      <td>1</td>\n",
       "      <td>1</td>\n",
       "      <td>1</td>\n",
       "    </tr>\n",
       "    <tr>\n",
       "      <th>143</th>\n",
       "      <td>Salvador</td>\n",
       "      <td>2019-01-02</td>\n",
       "      <td>41.18</td>\n",
       "      <td>1037</td>\n",
       "      <td>2</td>\n",
       "      <td>82.36</td>\n",
       "      <td>2019</td>\n",
       "      <td>1</td>\n",
       "      <td>2</td>\n",
       "      <td>1</td>\n",
       "    </tr>\n",
       "    <tr>\n",
       "      <th>113</th>\n",
       "      <td>Recife</td>\n",
       "      <td>2019-03-02</td>\n",
       "      <td>38.63</td>\n",
       "      <td>980</td>\n",
       "      <td>2</td>\n",
       "      <td>77.26</td>\n",
       "      <td>2019</td>\n",
       "      <td>3</td>\n",
       "      <td>2</td>\n",
       "      <td>1</td>\n",
       "    </tr>\n",
       "    <tr>\n",
       "      <th>126</th>\n",
       "      <td>Fortaleza</td>\n",
       "      <td>2019-03-02</td>\n",
       "      <td>41.87</td>\n",
       "      <td>980</td>\n",
       "      <td>8</td>\n",
       "      <td>334.96</td>\n",
       "      <td>2019</td>\n",
       "      <td>3</td>\n",
       "      <td>2</td>\n",
       "      <td>1</td>\n",
       "    </tr>\n",
       "  </tbody>\n",
       "</table>\n",
       "</div>"
      ]
     },
     "metadata": {},
     "execution_count": 63
    }
   ],
   "metadata": {}
  },
  {
   "cell_type": "code",
   "execution_count": 64,
   "source": [
    "# Vendas de um Mês específico\r\n",
    "mes = 2\r\n",
    "ano = 2018\r\n",
    "filtro = df.loc[(df[\"Data\"].dt.year == ano) & (df[\"Data\"].dt.month == mes)]"
   ],
   "outputs": [],
   "metadata": {}
  },
  {
   "cell_type": "code",
   "execution_count": 65,
   "source": [
    "filtro.head()"
   ],
   "outputs": [
    {
     "output_type": "execute_result",
     "data": {
      "text/plain": [
       "   Cidade       Data  Vendas  LojaID  Qtde  Receita  Ano_Venda  Mes_Venda  \\\n",
       "15  Natal 2018-02-01   432.0     854     3   1296.0       2018          2   \n",
       "17  Natal 2018-02-18   276.0     854     3    828.0       2018          2   \n",
       "38  Natal 2018-02-25   828.0     852     4   3312.0       2018          2   \n",
       "62  Natal 2018-02-10   793.0     854     4   3172.0       2018          2   \n",
       "63  Natal 2018-02-12   552.0     852     2   1104.0       2018          2   \n",
       "\n",
       "    Dia_Venda  Trimestre_Venda  \n",
       "15          1                1  \n",
       "17         18                1  \n",
       "38         25                1  \n",
       "62         10                1  \n",
       "63         12                1  "
      ],
      "text/html": [
       "<div>\n",
       "<style scoped>\n",
       "    .dataframe tbody tr th:only-of-type {\n",
       "        vertical-align: middle;\n",
       "    }\n",
       "\n",
       "    .dataframe tbody tr th {\n",
       "        vertical-align: top;\n",
       "    }\n",
       "\n",
       "    .dataframe thead th {\n",
       "        text-align: right;\n",
       "    }\n",
       "</style>\n",
       "<table border=\"1\" class=\"dataframe\">\n",
       "  <thead>\n",
       "    <tr style=\"text-align: right;\">\n",
       "      <th></th>\n",
       "      <th>Cidade</th>\n",
       "      <th>Data</th>\n",
       "      <th>Vendas</th>\n",
       "      <th>LojaID</th>\n",
       "      <th>Qtde</th>\n",
       "      <th>Receita</th>\n",
       "      <th>Ano_Venda</th>\n",
       "      <th>Mes_Venda</th>\n",
       "      <th>Dia_Venda</th>\n",
       "      <th>Trimestre_Venda</th>\n",
       "    </tr>\n",
       "  </thead>\n",
       "  <tbody>\n",
       "    <tr>\n",
       "      <th>15</th>\n",
       "      <td>Natal</td>\n",
       "      <td>2018-02-01</td>\n",
       "      <td>432.0</td>\n",
       "      <td>854</td>\n",
       "      <td>3</td>\n",
       "      <td>1296.0</td>\n",
       "      <td>2018</td>\n",
       "      <td>2</td>\n",
       "      <td>1</td>\n",
       "      <td>1</td>\n",
       "    </tr>\n",
       "    <tr>\n",
       "      <th>17</th>\n",
       "      <td>Natal</td>\n",
       "      <td>2018-02-18</td>\n",
       "      <td>276.0</td>\n",
       "      <td>854</td>\n",
       "      <td>3</td>\n",
       "      <td>828.0</td>\n",
       "      <td>2018</td>\n",
       "      <td>2</td>\n",
       "      <td>18</td>\n",
       "      <td>1</td>\n",
       "    </tr>\n",
       "    <tr>\n",
       "      <th>38</th>\n",
       "      <td>Natal</td>\n",
       "      <td>2018-02-25</td>\n",
       "      <td>828.0</td>\n",
       "      <td>852</td>\n",
       "      <td>4</td>\n",
       "      <td>3312.0</td>\n",
       "      <td>2018</td>\n",
       "      <td>2</td>\n",
       "      <td>25</td>\n",
       "      <td>1</td>\n",
       "    </tr>\n",
       "    <tr>\n",
       "      <th>62</th>\n",
       "      <td>Natal</td>\n",
       "      <td>2018-02-10</td>\n",
       "      <td>793.0</td>\n",
       "      <td>854</td>\n",
       "      <td>4</td>\n",
       "      <td>3172.0</td>\n",
       "      <td>2018</td>\n",
       "      <td>2</td>\n",
       "      <td>10</td>\n",
       "      <td>1</td>\n",
       "    </tr>\n",
       "    <tr>\n",
       "      <th>63</th>\n",
       "      <td>Natal</td>\n",
       "      <td>2018-02-12</td>\n",
       "      <td>552.0</td>\n",
       "      <td>852</td>\n",
       "      <td>2</td>\n",
       "      <td>1104.0</td>\n",
       "      <td>2018</td>\n",
       "      <td>2</td>\n",
       "      <td>12</td>\n",
       "      <td>1</td>\n",
       "    </tr>\n",
       "  </tbody>\n",
       "</table>\n",
       "</div>"
      ]
     },
     "metadata": {},
     "execution_count": 65
    }
   ],
   "metadata": {}
  },
  {
   "cell_type": "markdown",
   "source": [
    "## Visualização de dados"
   ],
   "metadata": {}
  },
  {
   "cell_type": "code",
   "execution_count": 66,
   "source": [
    "# Importando a biblioteca\r\n",
    "import matplotlib.pyplot as plt "
   ],
   "outputs": [],
   "metadata": {}
  },
  {
   "cell_type": "code",
   "execution_count": 67,
   "source": [
    "# Obtendo o total de vendas por LojaID\r\n",
    "df[\"LojaID\"].value_counts(ascending=False)"
   ],
   "outputs": [
    {
     "output_type": "execute_result",
     "data": {
      "text/plain": [
       "1036    117\n",
       "1035    112\n",
       "1037    101\n",
       "1034     67\n",
       "983      65\n",
       "982      44\n",
       "1522     41\n",
       "1520     39\n",
       "980      36\n",
       "981      31\n",
       "1005     30\n",
       "1002     30\n",
       "852      29\n",
       "1523     29\n",
       "1004     28\n",
       "854      28\n",
       "853      26\n",
       "1521     21\n",
       "1003     20\n",
       "Name: LojaID, dtype: int64"
      ]
     },
     "metadata": {},
     "execution_count": 67
    }
   ],
   "metadata": {}
  },
  {
   "cell_type": "code",
   "execution_count": 68,
   "source": [
    "# Criando um gráfico\r\n",
    "# Usaremos a biblioteca matplotlib que já é integrada ao pandas\r\n",
    "df[\"LojaID\"].value_counts(ascending=False).plot.bar()\r\n"
   ],
   "outputs": [
    {
     "output_type": "execute_result",
     "data": {
      "text/plain": [
       "<AxesSubplot:>"
      ]
     },
     "metadata": {},
     "execution_count": 68
    },
    {
     "output_type": "display_data",
     "data": {
      "text/plain": [
       "<Figure size 432x288 with 1 Axes>"
      ],
      "image/png": "[encoded data removed]"
     },
     "metadata": {
      "needs_background": "light"
     }
    }
   ],
   "metadata": {}
  },
  {
   "cell_type": "code",
   "execution_count": 69,
   "source": [
    "# Plotando um gráfico de barras horizontais\r\n",
    "df[\"LojaID\"].value_counts(ascending=False).plot.barh();\r\n",
    "# o ponto e vírgula no final do código é para retirar a linha acima do gráfico"
   ],
   "outputs": [
    {
     "output_type": "display_data",
     "data": {
      "text/plain": [
       "<Figure size 432x288 with 1 Axes>"
      ],
      "image/png": "[encoded data removed]"
     },
     "metadata": {
      "needs_background": "light"
     }
    }
   ],
   "metadata": {}
  },
  {
   "cell_type": "code",
   "execution_count": 70,
   "source": [
    "# Gráfico de Pizza da Receita total por ano\r\n",
    "df.groupby(df[\"Data\"].dt.year)[\"Receita\"].sum().plot.pie();"
   ],
   "outputs": [
    {
     "output_type": "display_data",
     "data": {
      "text/plain": [
       "<Figure size 432x288 with 1 Axes>"
      ],
      "image/png": "[encoded data removed]"
     },
     "metadata": {}
    }
   ],
   "metadata": {}
  },
  {
   "cell_type": "code",
   "execution_count": 71,
   "source": [
    "# Importando a biblioteca matplotlib.pyplot\r\n",
    "import matplotlib.pyplot as plt"
   ],
   "outputs": [],
   "metadata": {}
  },
  {
   "cell_type": "code",
   "execution_count": 72,
   "source": [
    "# Construindo um gráfico um pouco mais elaborado\r\n",
    "df[\"Cidade\"].value_counts().plot.bar(title = \"Total de vendas por cidade\", color=\"pink\");\r\n",
    "plt.xlabel(\"Cidade\");\r\n",
    "plt.ylabel(\"Total de Vendas\");"
   ],
   "outputs": [
    {
     "output_type": "display_data",
     "data": {
      "text/plain": [
       "<Figure size 432x288 with 1 Axes>"
      ],
      "image/png": "[encoded data removed]"
     },
     "metadata": {
      "needs_background": "light"
     }
    }
   ],
   "metadata": {}
  },
  {
   "cell_type": "code",
   "execution_count": 73,
   "source": [
    "# Alterando o estilo do gráfico para o ggplot\r\n",
    "plt.style.use(\"ggplot\")"
   ],
   "outputs": [],
   "metadata": {}
  },
  {
   "cell_type": "code",
   "execution_count": 74,
   "source": [
    "df[\"Cidade\"].value_counts().plot.bar(title = \"Total de vendas por cidade\", color=\"orangered\");\r\n",
    "plt.xlabel(\"Cidade\");\r\n",
    "plt.ylabel(\"Total de Vendas\");"
   ],
   "outputs": [
    {
     "output_type": "display_data",
     "data": {
      "text/plain": [
       "<Figure size 432x288 with 1 Axes>"
      ],
      "image/png": "[encoded data removed]"
     },
     "metadata": {}
    }
   ],
   "metadata": {}
  },
  {
   "cell_type": "code",
   "execution_count": 75,
   "source": [
    "# Quantidade produtos vendidos por mes\r\n",
    "df.groupby(df[\"Mes_Venda\"])[\"Qtde\"].sum()"
   ],
   "outputs": [
    {
     "output_type": "execute_result",
     "data": {
      "text/plain": [
       "Mes_Venda\n",
       "1     2208\n",
       "2      144\n",
       "3      467\n",
       "4       23\n",
       "5       17\n",
       "6       13\n",
       "7       13\n",
       "8        2\n",
       "9       10\n",
       "10      14\n",
       "11       2\n",
       "12       3\n",
       "Name: Qtde, dtype: int64"
      ]
     },
     "metadata": {},
     "execution_count": 75
    }
   ],
   "metadata": {}
  },
  {
   "cell_type": "code",
   "execution_count": 76,
   "source": [
    "# Gráfico de produntos vendidos\r\n",
    "df.groupby(df[\"Mes_Venda\"])[\"Qtde\"].sum().plot(title = \"Total de Produtos Vendidos por Mês\");\r\n",
    "plt.xlabel(\"Mês\");\r\n",
    "plt.ylabel(\"Total de Prod. Vendidos\");\r\n",
    "plt.legend();"
   ],
   "outputs": [
    {
     "output_type": "display_data",
     "data": {
      "text/plain": [
       "<Figure size 432x288 with 1 Axes>"
      ],
      "image/png": "[encoded data removed]"
     },
     "metadata": {}
    }
   ],
   "metadata": {}
  },
  {
   "cell_type": "code",
   "execution_count": 77,
   "source": [
    "# Total de produtos vendidos mês a mês em 2019\r\n",
    "df_2019 = df[df[\"Ano_Venda\"] == 2019]"
   ],
   "outputs": [],
   "metadata": {}
  },
  {
   "cell_type": "code",
   "execution_count": 78,
   "source": [
    "# Análise das vendas para o ano de 2019\r\n",
    "df_2019.groupby(df_2019[\"Mes_Venda\"])[\"Qtde\"].sum()"
   ],
   "outputs": [
    {
     "output_type": "execute_result",
     "data": {
      "text/plain": [
       "Mes_Venda\n",
       "1    1541\n",
       "2     128\n",
       "3     460\n",
       "4      12\n",
       "Name: Qtde, dtype: int64"
      ]
     },
     "metadata": {},
     "execution_count": 78
    }
   ],
   "metadata": {}
  },
  {
   "cell_type": "code",
   "execution_count": 79,
   "source": [
    "# Plotando o gráfico da quantidade de produtos vendidos em 2019\r\n",
    "df_2019.groupby(df_2019[\"Mes_Venda\"])[\"Qtde\"].sum().plot(title = \"Produtos Vendidos em 2019\", marker = \"*\")\r\n",
    "plt.xlabel(\"Mês\")\r\n",
    "plt.ylabel(\"Qtde Produtos Vendidos\")\r\n",
    "plt.legend()"
   ],
   "outputs": [
    {
     "output_type": "execute_result",
     "data": {
      "text/plain": [
       "<matplotlib.legend.Legend at 0x1ec98047190>"
      ]
     },
     "metadata": {},
     "execution_count": 79
    },
    {
     "output_type": "display_data",
     "data": {
      "text/plain": [
       "<Figure size 432x288 with 1 Axes>"
      ],
      "image/png": "[encoded data removed]"
     },
     "metadata": {}
    }
   ],
   "metadata": {}
  },
  {
   "cell_type": "code",
   "execution_count": 80,
   "source": [
    "# Histograma com a quantidade de produtos vendidos\r\n",
    "plt.hist(df[\"Qtde\"], color=\"orangered\");"
   ],
   "outputs": [
    {
     "output_type": "display_data",
     "data": {
      "text/plain": [
       "<Figure size 432x288 with 1 Axes>"
      ],
      "image/png": "[encoded data removed]"
     },
     "metadata": {}
    }
   ],
   "metadata": {}
  },
  {
   "cell_type": "code",
   "execution_count": 81,
   "source": [
    "# Plotando um gráfico de dispersão\r\n",
    "plt.scatter(x=df_2019[\"Dia_Venda\"], y = df_2019[\"Receita\"], color = 'blue');"
   ],
   "outputs": [
    {
     "output_type": "display_data",
     "data": {
      "text/plain": [
       "<Figure size 432x288 with 1 Axes>"
      ],
      "image/png": "[encoded data removed]"
     },
     "metadata": {}
    }
   ],
   "metadata": {}
  },
  {
   "cell_type": "code",
   "execution_count": 82,
   "source": [
    "# Plotando e SALVANDO o gráfico da quantidade de produtos vendidos em 2019\r\n",
    "df_2019.groupby(df_2019[\"Mes_Venda\"])[\"Qtde\"].sum().plot(title = \"Produtos Vendidos em 2019\", marker = \"*\")\r\n",
    "plt.xlabel(\"Mês\")\r\n",
    "plt.ylabel(\"Qtde Produtos Vendidos\")\r\n",
    "plt.legend()\r\n",
    "plt.savefig(\"Grafico1.png\")"
   ],
   "outputs": [
    {
     "output_type": "display_data",
     "data": {
      "text/plain": [
       "<Figure size 432x288 with 1 Axes>"
      ],
      "image/png": "[encoded data removed]"
     },
     "metadata": {}
    }
   ],
   "metadata": {}
  }
 ]
}